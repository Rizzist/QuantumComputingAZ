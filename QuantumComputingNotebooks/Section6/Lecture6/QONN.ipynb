{
 "cells": [
  {
   "cell_type": "code",
   "execution_count": 13,
   "metadata": {},
   "outputs": [],
   "source": [
    "import pennylane as qml\n",
    "from pennylane import numpy as np\n",
    "import nlopt #pip install nlopt\n",
    "import random\n",
    "\n",
    "\n",
    "import warnings\n",
    "#warnings.filterwarnings('ignore')\n"
   ]
  },
  {
   "cell_type": "markdown",
   "metadata": {},
   "source": [
    "## Create Quantum Optical Device"
   ]
  },
  {
   "cell_type": "code",
   "execution_count": 14,
   "metadata": {},
   "outputs": [],
   "source": [
    "dev = qml.device(\"strawberryfields.fock\", wires=4, cutoff_dim=4)"
   ]
  },
  {
   "cell_type": "code",
   "execution_count": 15,
   "metadata": {},
   "outputs": [],
   "source": [
    "def layer(theta, phi, wires):\n",
    "    M = len(wires)\n",
    "    phi_nonlinear = np.pi / 2\n",
    "\n",
    "    qml.templates.Interferometer(\n",
    "        theta, phi, np.zeros(M), wires=wires, mesh=\"triangular\",\n",
    "    )\n",
    "\n",
    "    for i in wires:\n",
    "        qml.Kerr(phi_nonlinear, wires=i)"
   ]
  },
  {
   "cell_type": "code",
   "execution_count": 16,
   "metadata": {},
   "outputs": [],
   "source": [
    "@qml.qnode(dev)\n",
    "def quantum_neural_net(var, x):\n",
    "    wires = list(range(len(x)))\n",
    "\n",
    "    # Encode input x into a sequence of quantum fock states\n",
    "    for i in wires:\n",
    "        qml.FockState(x[i], wires=i)\n",
    "\n",
    "    # \"layer\" subcircuits\n",
    "    for i, v in enumerate(var):\n",
    "        layer(v[: len(v) // 2], v[len(v) // 2 :], wires)\n",
    "\n",
    "    return [qml.expval(qml.NumberOperator(w)) for w in wires]"
   ]
  },
  {
   "cell_type": "markdown",
   "metadata": {},
   "source": [
    "## Cost Function"
   ]
  },
  {
   "cell_type": "code",
   "execution_count": 17,
   "metadata": {},
   "outputs": [],
   "source": [
    "def square_loss(labels, predictions):\n",
    "    term = 0\n",
    "    for l, p in zip(labels, predictions):\n",
    "        lnorm = l / np.linalg.norm(l)\n",
    "        pnorm = p / np.linalg.norm(p)\n",
    "\n",
    "        term = term + np.abs(np.dot(lnorm, pnorm.T)) ** 2\n",
    "\n",
    "    return 1 - term / len(labels)"
   ]
  },
  {
   "cell_type": "code",
   "execution_count": 18,
   "metadata": {},
   "outputs": [],
   "source": [
    "def cost(var, data_input, labels):\n",
    "    predictions = np.array([quantum_neural_net(var, x) for x in data_input])\n",
    "    sl = square_loss(labels, predictions)\n",
    "\n",
    "    return sl"
   ]
  },
  {
   "cell_type": "markdown",
   "metadata": {},
   "source": [
    "## Generic Gate we are training network to emulate"
   ]
  },
  {
   "cell_type": "code",
   "execution_count": 19,
   "metadata": {},
   "outputs": [],
   "source": [
    "# Define the CNOT input-output states (dual-rail encoding) and initialize\n",
    "# them as non-differentiable.\n",
    "\n",
    "X = np.array([[1, 0, 1, 0],\n",
    "              [1, 0, 0, 1],\n",
    "              [0, 1, 1, 0],\n",
    "              [0, 1, 0, 1]], requires_grad=False)\n",
    "\n",
    "Y = np.array([[1, 0, 1, 0],\n",
    "              [1, 0, 0, 1],\n",
    "              [0, 1, 0, 1],\n",
    "              [0, 1, 1, 0]], requires_grad=False)"
   ]
  },
  {
   "cell_type": "markdown",
   "metadata": {},
   "source": [
    "## Quantum Optical Machine Learning"
   ]
  },
  {
   "cell_type": "code",
   "execution_count": null,
   "metadata": {},
   "outputs": [],
   "source": [
    "\"\"\"\n",
    "Goal is to create a CNOT gate in an optical device (photonic devices dont have native cnot gates) -> X, P, V, K\n",
    "\"\"\""
   ]
  },
  {
   "cell_type": "code",
   "execution_count": 20,
   "metadata": {},
   "outputs": [
    {
     "name": "stdout",
     "output_type": "stream",
     "text": [
      "[[-6.1943875  -5.99337433  0.31132756 -1.25838414 -5.69676729  5.95338743\n",
      "  -3.35809437 -5.14459127  1.48768247 -1.47702618  6.0724584  -0.4176698 ]\n",
      " [ 4.52314455  2.26581135 -0.62204475 -6.11649289  5.55687115  0.7953032\n",
      "  -1.4398987  -6.08254746 -3.38168792 -3.25436997  2.3029573   1.38225877]]\n"
     ]
    }
   ],
   "source": [
    "num_layers = 2\n",
    "M = len(X[0])\n",
    "num_variables_per_layer = M * (M - 1)\n",
    "\n",
    "var_init = (4 * np.random.rand(num_layers, num_variables_per_layer) - 2) * np.pi\n",
    "print(var_init)"
   ]
  },
  {
   "cell_type": "code",
   "execution_count": 21,
   "metadata": {},
   "outputs": [
    {
     "name": "stdout",
     "output_type": "stream",
     "text": [
      "Iter:    1    Cost: 4.0045e-01\n",
      "Iter:    2    Cost: 2.3274e-01\n",
      "Iter:    3    Cost: 2.2149e-01\n",
      "Iter:    4    Cost: 1.1658e-01\n",
      "Iter:    5    Cost: 1.1556e-01\n",
      "Iter:    6    Cost: 5.8124e-02\n",
      "Iter:    7    Cost: 4.0028e-02\n",
      "Iter:    8    Cost: 2.5696e-02\n",
      "Iter:    9    Cost: 7.1356e-03\n",
      "Iter:   10    Cost: 2.9986e-03\n",
      "Iter:   11    Cost: 1.2262e-03\n",
      "Iter:   12    Cost: 7.5319e-04\n",
      "Iter:   13    Cost: 4.2233e-04\n",
      "Iter:   14    Cost: 2.4666e-04\n",
      "Iter:   15    Cost: 2.3732e-04\n",
      "Iter:   16    Cost: 7.5397e-05\n",
      "Iter:   17    Cost: 5.1838e-05\n",
      "Iter:   18    Cost: 1.9697e-05\n",
      "Iter:   19    Cost: 6.7224e-06\n",
      "Iter:   20    Cost: 2.1031e-06\n",
      "Iter:   21    Cost: 7.0350e-07\n",
      "Iter:   22    Cost: 1.6842e-07\n",
      "Iter:   23    Cost: 6.0320e-08\n",
      "Iter:   24    Cost: 2.0190e-08\n",
      "Iter:   25    Cost: 6.6324e-09\n",
      "Iter:   26    Cost: 2.1623e-09\n",
      "Iter:   27    Cost: 6.9723e-10\n",
      "Iter:   28    Cost: 2.2163e-10\n",
      "Iter:   29    Cost: 6.9445e-11\n",
      "Iter:   30    Cost: 2.2087e-11\n"
     ]
    }
   ],
   "source": [
    "cost_grad = qml.grad(cost)\n",
    "\n",
    "print_every = 1\n",
    "\n",
    "# Wrap the cost so that NLopt can use it for gradient-based optimizations\n",
    "evals = 0\n",
    "def cost_wrapper(var, grad=[]):\n",
    "    global evals\n",
    "    evals += 1\n",
    "\n",
    "    if grad.size > 0:\n",
    "        # Get the gradient for `var` by first \"unflattening\" it\n",
    "        var_grad = cost_grad(var.reshape((num_layers, num_variables_per_layer)), X, Y)\n",
    "        grad[:] = var_grad.flatten()\n",
    "    cost_val = cost(var.reshape((num_layers, num_variables_per_layer)), X, Y)\n",
    "\n",
    "    if evals % print_every == 0:\n",
    "        print(f\"Iter: {evals:4d}    Cost: {cost_val:.4e}\")\n",
    "\n",
    "    return float(cost_val)\n",
    "\n",
    "\n",
    "# Choose an algorithm\n",
    "opt_algorithm = nlopt.LD_LBFGS  # Gradient-based\n",
    "# opt_algorithm = nlopt.LN_BOBYQA  # Gradient-free\n",
    "\n",
    "opt = nlopt.opt(opt_algorithm, num_layers*num_variables_per_layer)\n",
    "\n",
    "opt.set_min_objective(cost_wrapper)\n",
    "\n",
    "opt.set_lower_bounds(-2*np.pi * np.ones(num_layers*num_variables_per_layer))\n",
    "opt.set_upper_bounds(2*np.pi * np.ones(num_layers*num_variables_per_layer))\n",
    "\n",
    "var = opt.optimize(var_init.flatten())\n",
    "var = var.reshape(var_init.shape)"
   ]
  },
  {
   "cell_type": "code",
   "execution_count": 22,
   "metadata": {},
   "outputs": [
    {
     "name": "stdout",
     "output_type": "stream",
     "text": [
      "The optimized parameters (layers, parameters):\n",
      " [[-6.27119279e+00 -6.28267943e+00 -5.01836140e-05 -7.89804090e-01\n",
      "  -5.49762742e+00  6.28318531e+00 -3.37093158e+00 -5.18261959e+00\n",
      "   1.44555920e+00 -2.16148584e+00  6.14482778e+00 -6.82043927e-02]\n",
      " [ 3.14282021e+00  2.45909763e+00 -2.56092554e-03 -6.28318531e+00\n",
      "   4.83512685e+00  7.84675767e-01 -1.27958631e+00 -6.28318531e+00\n",
      "  -3.33956475e+00 -3.18318860e+00  2.56858860e+00  1.49859585e+00]]\n",
      "\n",
      "[1 0 1 0] --> [1. 0. 1. 0.], should be [1 0 1 0]\n",
      "[1 0 0 1] --> [1. 0. 0. 1.], should be [1 0 0 1]\n",
      "[0 1 1 0] --> [0. 1. 0. 1.], should be [0 1 0 1]\n",
      "[0 1 0 1] --> [0. 1. 1. 0.], should be [0 1 1 0]\n"
     ]
    }
   ],
   "source": [
    "print(f\"The optimized parameters (layers, parameters):\\n {var}\\n\")\n",
    "\n",
    "Y_pred = np.array([quantum_neural_net(var, x) for x in X])\n",
    "for i, x in enumerate(X):\n",
    "    print(f\"{x} --> {Y_pred[i].round(2)}, should be {Y[i]}\")"
   ]
  },
  {
   "cell_type": "code",
   "execution_count": 24,
   "metadata": {},
   "outputs": [
    {
     "data": {
      "text/plain": [
       "tensor([0.61007575, 0.64204904, 0.64257627, 0.10529894], requires_grad=True)"
      ]
     },
     "execution_count": 24,
     "metadata": {},
     "output_type": "execute_result"
    }
   ],
   "source": [
    "quantum_neural_net(var_init, X[0])"
   ]
  },
  {
   "cell_type": "code",
   "execution_count": 28,
   "metadata": {},
   "outputs": [
    {
     "name": "stdout",
     "output_type": "stream",
     "text": [
      " 0: ──|1⟩────────────────────────────────────────╭BS(0.311, 1.49)────R(0)─────────────Kerr(1.57)────────────────────────────────────────────────────────────────────╭BS(-0.622, -3.38)───R(0)────────────Kerr(1.57)───────────────────────────────┤ ⟨n⟩ \n",
      " 1: ──|0⟩─────────────────────╭BS(-5.99, -5.14)──╰BS(0.311, 1.49)───╭BS(-5.7, 6.07)───R(0)──────────────Kerr(1.57)────────────────────────────────╭BS(2.27, -6.08)──╰BS(-0.622, -3.38)──╭BS(5.56, 2.3)───R(0)─────────────Kerr(1.57)──────────────┤ ⟨n⟩ \n",
      " 2: ──|1⟩──╭BS(-6.19, -3.36)──╰BS(-5.99, -5.14)──╭BS(-1.26, -1.48)──╰BS(-5.7, 6.07)──╭BS(5.95, -0.418)──R(0)────────Kerr(1.57)──╭BS(4.52, -1.44)──╰BS(2.27, -6.08)──╭BS(-6.12, -3.25)───╰BS(5.56, 2.3)──╭BS(0.795, 1.38)──R(0)────────Kerr(1.57)──┤ ⟨n⟩ \n",
      " 3: ──|0⟩──╰BS(-6.19, -3.36)─────────────────────╰BS(-1.26, -1.48)───────────────────╰BS(5.95, -0.418)──R(0)────────Kerr(1.57)──╰BS(4.52, -1.44)────────────────────╰BS(-6.12, -3.25)───────────────────╰BS(0.795, 1.38)──R(0)────────Kerr(1.57)──┤ ⟨n⟩ \n",
      "\n"
     ]
    }
   ],
   "source": [
    "print(quantum_neural_net.draw())"
   ]
  },
  {
   "cell_type": "code",
   "execution_count": null,
   "metadata": {},
   "outputs": [],
   "source": []
  },
  {
   "cell_type": "code",
   "execution_count": null,
   "metadata": {},
   "outputs": [],
   "source": []
  }
 ],
 "metadata": {
  "kernelspec": {
   "display_name": "Python 3",
   "language": "python",
   "name": "python3"
  },
  "language_info": {
   "codemirror_mode": {
    "name": "ipython",
    "version": 3
   },
   "file_extension": ".py",
   "mimetype": "text/x-python",
   "name": "python",
   "nbconvert_exporter": "python",
   "pygments_lexer": "ipython3",
   "version": "3.7.6"
  }
 },
 "nbformat": 4,
 "nbformat_minor": 4
}
