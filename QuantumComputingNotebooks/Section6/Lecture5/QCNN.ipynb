{
 "cells": [
  {
   "cell_type": "code",
   "execution_count": 2,
   "metadata": {},
   "outputs": [],
   "source": [
    "import pennylane as qml\n",
    "from pennylane import numpy as np\n",
    "from pennylane.templates import AmplitudeEmbedding, AngleEmbedding, RandomLayers\n",
    "import tensorflow as tf\n",
    "from tensorflow import keras\n",
    "import matplotlib.pyplot as plt\n",
    "import random\n",
    "\n",
    "\n",
    "\n",
    "import warnings\n",
    "#warnings.filterwarnings('ignore')\n"
   ]
  },
  {
   "cell_type": "markdown",
   "metadata": {},
   "source": [
    "## Machine Learning Settings"
   ]
  },
  {
   "cell_type": "code",
   "execution_count": 3,
   "metadata": {},
   "outputs": [],
   "source": [
    "n_epochs = 30   # Number of optimization epochs\n",
    "n_layers = 1    # Number of random layers\n",
    "#How many Images\n",
    "n_train = 50    # Size of the train dataset\n",
    "n_test = 30     # Size of the test dataset\n",
    "\n",
    "SAVE_PATH = \"./\" # Data saving folder\n",
    "PREPROCESS = False           # If False, skip quantum processing and load data from SAVE_PATH\n",
    "#Seeds for Randomness Generators\n",
    "np.random.seed(0)           # Seed for NumPy random number generator\n",
    "tf.random.set_seed(0)       # Seed for TensorFlow random number generator"
   ]
  },
  {
   "cell_type": "markdown",
   "metadata": {},
   "source": [
    "## Load MNIST"
   ]
  },
  {
   "cell_type": "code",
   "execution_count": 4,
   "metadata": {},
   "outputs": [],
   "source": [
    "mnist_dataset = keras.datasets.mnist\n",
    "(train_images, train_labels), (test_images, test_labels) = mnist_dataset.load_data()\n",
    "\n",
    "# Reduce dataset size\n",
    "train_images = train_images[:n_train]\n",
    "train_labels = train_labels[:n_train]\n",
    "test_images = test_images[:n_test]\n",
    "test_labels = test_labels[:n_test]\n",
    "\n",
    "# Normalize pixel values within 0 and 1\n",
    "train_images = train_images / 255\n",
    "test_images = test_images / 255\n",
    "\n",
    "# Add extra dimension for convolution channels\n",
    "train_images = np.array(train_images[..., tf.newaxis], requires_grad=False)\n",
    "test_images = np.array(test_images[..., tf.newaxis], requires_grad=False)"
   ]
  },
  {
   "cell_type": "code",
   "execution_count": 5,
   "metadata": {},
   "outputs": [
    {
     "name": "stdout",
     "output_type": "stream",
     "text": [
      "Picture size is: 28 x 28\n",
      "\n",
      "[[0.        ]\n",
      " [0.        ]\n",
      " [0.        ]\n",
      " [0.        ]\n",
      " [0.        ]\n",
      " [0.        ]\n",
      " [0.        ]\n",
      " [0.77647059]\n",
      " [0.99215686]\n",
      " [0.74509804]\n",
      " [0.        ]\n",
      " [0.        ]\n",
      " [0.        ]\n",
      " [0.        ]\n",
      " [0.        ]\n",
      " [0.        ]\n",
      " [0.        ]\n",
      " [0.        ]\n",
      " [0.        ]\n",
      " [0.        ]\n",
      " [1.        ]\n",
      " [0.99215686]\n",
      " [0.76862745]\n",
      " [0.        ]\n",
      " [0.        ]\n",
      " [0.        ]\n",
      " [0.        ]\n",
      " [0.        ]]\n"
     ]
    }
   ],
   "source": [
    "print(\"Picture size is: \" + str(len(train_images[0][0])) + \" x \" + str(len(train_images[0])))\n",
    "print()\n",
    "print(train_images[1][14])"
   ]
  },
  {
   "cell_type": "markdown",
   "metadata": {},
   "source": [
    "## Quantum Convolutional Kernel"
   ]
  },
  {
   "cell_type": "code",
   "execution_count": 6,
   "metadata": {},
   "outputs": [],
   "source": [
    "dev = qml.device(\"default.qubit\", wires=4)\n",
    "# Random circuit parameters\n",
    "rand_params = np.random.uniform(high=2 * np.pi, size=(n_layers, 4))\n",
    "\n",
    "@qml.qnode(dev)\n",
    "def circuit(phi):\n",
    "    # Encoding of 4 classical input values\n",
    "    for j in range(4):\n",
    "        qml.RY(np.pi * phi[j], wires=j)\n",
    "\n",
    "    # Random quantum circuit\n",
    "    RandomLayers(rand_params, wires=list(range(4)))\n",
    "\n",
    "    # Measurement producing 4 classical output values\n",
    "    return [qml.expval(qml.PauliZ(j)) for j in range(4)]"
   ]
  },
  {
   "cell_type": "markdown",
   "metadata": {},
   "source": [
    "## Photo Resolution Halfer"
   ]
  },
  {
   "cell_type": "code",
   "execution_count": 7,
   "metadata": {},
   "outputs": [],
   "source": [
    "def quanv(image):\n",
    "    \"\"\"Convolves the input image with many applications of the same quantum circuit.\"\"\"\n",
    "    out = np.zeros((14, 14, 4))\n",
    "\n",
    "    # Loop over the coordinates of the top-left pixel of 2X2 squares\n",
    "    for j in range(0, 28, 2):\n",
    "        for k in range(0, 28, 2):\n",
    "            # Process a squared 2x2 region of the image with a quantum circuit\n",
    "            q_results = circuit(\n",
    "                [\n",
    "                    image[j, k, 0],\n",
    "                    image[j, k + 1, 0],\n",
    "                    image[j + 1, k, 0],\n",
    "                    image[j + 1, k + 1, 0]\n",
    "                ]\n",
    "            )\n",
    "            # Assign expectation values to different channels of the output pixel (j/2, k/2)\n",
    "            for c in range(4):\n",
    "                out[j // 2, k // 2, c] = q_results[c]\n",
    "    return out\n"
   ]
  },
  {
   "cell_type": "markdown",
   "metadata": {},
   "source": [
    "## Preprocessing"
   ]
  },
  {
   "cell_type": "code",
   "execution_count": 8,
   "metadata": {},
   "outputs": [
    {
     "name": "stdout",
     "output_type": "stream",
     "text": [
      "Load Successful\n"
     ]
    }
   ],
   "source": [
    "if PREPROCESS == True:\n",
    "    \n",
    "    q_train_images = []\n",
    "    print(\"Quantum pre-processing of train images:\")\n",
    "    for idx, img in enumerate(train_images):\n",
    "        print(\"{}/{}        \".format(idx + 1, n_train), end=\"\\r\")\n",
    "        q_train_images.append(quanv(img))\n",
    "    q_train_images = np.asarray(q_train_images)\n",
    "\n",
    "    q_test_images = []\n",
    "    print(\"\\nQuantum pre-processing of test images:\")\n",
    "    for idx, img in enumerate(test_images):\n",
    "        print(\"{}/{}        \".format(idx + 1, n_test), end=\"\\r\")\n",
    "        q_test_images.append(quanv(img))\n",
    "    q_test_images = np.asarray(q_test_images)\n",
    "    \n",
    "    # Save pre-processed images\n",
    "    np.save(SAVE_PATH + \"q_train_images.npy\", q_train_images)\n",
    "    np.save(SAVE_PATH + \"q_test_images.npy\", q_test_images)\n",
    "\n",
    "\n",
    "# Load pre-processed images\n",
    "q_train_images = np.load(SAVE_PATH + \"q_train_images.npy\")\n",
    "q_test_images = np.load(SAVE_PATH + \"q_test_images.npy\")\n",
    "#q_train_images = train_images\n",
    "#q_test_images = test_images\n",
    "print(\"Load Successful\")"
   ]
  },
  {
   "cell_type": "markdown",
   "metadata": {},
   "source": [
    "## Display Processed Images"
   ]
  },
  {
   "cell_type": "code",
   "execution_count": 10,
   "metadata": {},
   "outputs": [
    {
     "data": {
      "image/png": "[encoded data removed]",
      "text/plain": [
       "<Figure size 720x720 with 8 Axes>"
      ]
     },
     "metadata": {
      "needs_background": "light"
     },
     "output_type": "display_data"
    }
   ],
   "source": [
    "n_samples = 4\n",
    "n_channels = 1\n",
    "fig, axes = plt.subplots(1 + n_channels, n_samples, figsize=(10, 10))\n",
    "for k in range(n_samples):\n",
    "    randS = random.randint(0, 50)\n",
    "    axes[0, 0].set_ylabel(\"Input\")\n",
    "    if randS != 0:\n",
    "        axes[0, k].yaxis.set_visible(False)\n",
    "    axes[0, k].imshow(train_images[randS, :, :, 0], cmap=\"gray\")\n",
    "\n",
    "    # Plot all output channels\n",
    "    for c in range(n_channels):\n",
    "        axes[c + 1, 0].set_ylabel(\"Output [ch. {}]\".format(c))\n",
    "        if k != 0:\n",
    "            axes[c, k].yaxis.set_visible(False)\n",
    "        axes[c + 1, k].imshow(q_train_images[randS, :, :, c], cmap=\"gray\")\n",
    "\n",
    "plt.tight_layout()\n",
    "plt.show()"
   ]
  },
  {
   "cell_type": "code",
   "execution_count": 11,
   "metadata": {},
   "outputs": [
    {
     "name": "stdout",
     "output_type": "stream",
     "text": [
      "There are 50 that are 14 x 14\n"
     ]
    }
   ],
   "source": [
    "print(\"There are \" + str(len(q_train_images)) + \" that are \" + str(len(q_train_images[0])) + \" x \" + str(len(q_train_images[0][0])))\n",
    "\n",
    "\n",
    "\n"
   ]
  },
  {
   "cell_type": "markdown",
   "metadata": {},
   "source": [
    "## Machine Learning Model"
   ]
  },
  {
   "cell_type": "code",
   "execution_count": 16,
   "metadata": {},
   "outputs": [],
   "source": [
    "def MyModel():\n",
    "    \"\"\"Initializes and returns a custom Keras model\n",
    "    which is ready to be trained.\"\"\"\n",
    "    model = keras.models.Sequential([\n",
    "        keras.layers.Flatten(),\n",
    "        keras.layers.Dense(10, activation=\"softmax\") #0-9, 10 possible\n",
    "    ])\n",
    "\n",
    "    model.compile(\n",
    "        optimizer='adam',\n",
    "        loss=\"sparse_categorical_crossentropy\",\n",
    "        metrics=[\"accuracy\"],\n",
    "    )\n",
    "    return model"
   ]
  },
  {
   "cell_type": "code",
   "execution_count": null,
   "metadata": {},
   "outputs": [],
   "source": []
  },
  {
   "cell_type": "code",
   "execution_count": 17,
   "metadata": {},
   "outputs": [
    {
     "name": "stdout",
     "output_type": "stream",
     "text": [
      "Epoch 1/30\n",
      "13/13 - 1s - loss: 2.8593 - accuracy: 0.1800 - val_loss: 2.4480 - val_accuracy: 0.2000\n",
      "Epoch 2/30\n",
      "13/13 - 0s - loss: 2.0121 - accuracy: 0.2600 - val_loss: 2.2053 - val_accuracy: 0.2333\n",
      "Epoch 3/30\n",
      "13/13 - 0s - loss: 1.6345 - accuracy: 0.5200 - val_loss: 2.0532 - val_accuracy: 0.3000\n",
      "Epoch 4/30\n",
      "13/13 - 0s - loss: 1.2461 - accuracy: 0.7000 - val_loss: 1.8434 - val_accuracy: 0.3333\n",
      "Epoch 5/30\n",
      "13/13 - 0s - loss: 1.0477 - accuracy: 0.8000 - val_loss: 1.7302 - val_accuracy: 0.3667\n",
      "Epoch 6/30\n",
      "13/13 - 0s - loss: 0.8655 - accuracy: 0.9000 - val_loss: 1.6966 - val_accuracy: 0.4667\n",
      "Epoch 7/30\n",
      "13/13 - 0s - loss: 0.6706 - accuracy: 0.9200 - val_loss: 1.5957 - val_accuracy: 0.4333\n",
      "Epoch 8/30\n",
      "13/13 - 0s - loss: 0.5286 - accuracy: 0.9800 - val_loss: 1.5226 - val_accuracy: 0.4333\n",
      "Epoch 9/30\n",
      "13/13 - 0s - loss: 0.4559 - accuracy: 0.9600 - val_loss: 1.4454 - val_accuracy: 0.5000\n",
      "Epoch 10/30\n",
      "13/13 - 0s - loss: 0.3704 - accuracy: 0.9800 - val_loss: 1.4751 - val_accuracy: 0.4667\n",
      "Epoch 11/30\n",
      "13/13 - 0s - loss: 0.3424 - accuracy: 1.0000 - val_loss: 1.3897 - val_accuracy: 0.5667\n",
      "Epoch 12/30\n",
      "13/13 - 0s - loss: 0.2897 - accuracy: 1.0000 - val_loss: 1.4458 - val_accuracy: 0.5333\n",
      "Epoch 13/30\n",
      "13/13 - 0s - loss: 0.2518 - accuracy: 1.0000 - val_loss: 1.3453 - val_accuracy: 0.5333\n",
      "Epoch 14/30\n",
      "13/13 - 0s - loss: 0.2357 - accuracy: 1.0000 - val_loss: 1.2823 - val_accuracy: 0.6333\n",
      "Epoch 15/30\n",
      "13/13 - 0s - loss: 0.1909 - accuracy: 1.0000 - val_loss: 1.3178 - val_accuracy: 0.6000\n",
      "Epoch 16/30\n",
      "13/13 - 0s - loss: 0.1698 - accuracy: 1.0000 - val_loss: 1.3052 - val_accuracy: 0.5667\n",
      "Epoch 17/30\n",
      "13/13 - 0s - loss: 0.1609 - accuracy: 1.0000 - val_loss: 1.2533 - val_accuracy: 0.6000\n",
      "Epoch 18/30\n",
      "13/13 - 0s - loss: 0.1411 - accuracy: 1.0000 - val_loss: 1.2806 - val_accuracy: 0.5667\n",
      "Epoch 19/30\n",
      "13/13 - 0s - loss: 0.1283 - accuracy: 1.0000 - val_loss: 1.2634 - val_accuracy: 0.6000\n",
      "Epoch 20/30\n",
      "13/13 - 0s - loss: 0.1196 - accuracy: 1.0000 - val_loss: 1.2104 - val_accuracy: 0.6333\n",
      "Epoch 21/30\n",
      "13/13 - 0s - loss: 0.1084 - accuracy: 1.0000 - val_loss: 1.2678 - val_accuracy: 0.6333\n",
      "Epoch 22/30\n",
      "13/13 - 0s - loss: 0.0999 - accuracy: 1.0000 - val_loss: 1.2169 - val_accuracy: 0.5667\n",
      "Epoch 23/30\n",
      "13/13 - 0s - loss: 0.0934 - accuracy: 1.0000 - val_loss: 1.1941 - val_accuracy: 0.6333\n",
      "Epoch 24/30\n",
      "13/13 - 0s - loss: 0.0872 - accuracy: 1.0000 - val_loss: 1.1876 - val_accuracy: 0.6333\n",
      "Epoch 25/30\n",
      "13/13 - 0s - loss: 0.0833 - accuracy: 1.0000 - val_loss: 1.1869 - val_accuracy: 0.6333\n",
      "Epoch 26/30\n",
      "13/13 - 0s - loss: 0.0754 - accuracy: 1.0000 - val_loss: 1.1962 - val_accuracy: 0.6333\n",
      "Epoch 27/30\n",
      "13/13 - 0s - loss: 0.0725 - accuracy: 1.0000 - val_loss: 1.1731 - val_accuracy: 0.6000\n",
      "Epoch 28/30\n",
      "13/13 - 0s - loss: 0.0706 - accuracy: 1.0000 - val_loss: 1.1604 - val_accuracy: 0.6333\n",
      "Epoch 29/30\n",
      "13/13 - 0s - loss: 0.0653 - accuracy: 1.0000 - val_loss: 1.1996 - val_accuracy: 0.5667\n",
      "Epoch 30/30\n",
      "13/13 - 0s - loss: 0.0608 - accuracy: 1.0000 - val_loss: 1.1612 - val_accuracy: 0.6333\n"
     ]
    }
   ],
   "source": [
    "#Quantum Model\n",
    "q_model = MyModel()\n",
    "\n",
    "q_history = q_model.fit(\n",
    "    q_train_images,\n",
    "    train_labels,\n",
    "    validation_data=(q_test_images, test_labels),\n",
    "    batch_size=4,\n",
    "    epochs=n_epochs,\n",
    "    verbose=2,\n",
    ")"
   ]
  },
  {
   "cell_type": "code",
   "execution_count": 18,
   "metadata": {},
   "outputs": [
    {
     "name": "stdout",
     "output_type": "stream",
     "text": [
      "Epoch 1/30\n",
      "13/13 - 1s - loss: 2.3656 - accuracy: 0.1200 - val_loss: 2.1852 - val_accuracy: 0.0667\n",
      "Epoch 2/30\n",
      "13/13 - 0s - loss: 1.9940 - accuracy: 0.3400 - val_loss: 2.0517 - val_accuracy: 0.2000\n",
      "Epoch 3/30\n",
      "13/13 - 0s - loss: 1.6921 - accuracy: 0.6000 - val_loss: 1.9253 - val_accuracy: 0.3333\n",
      "Epoch 4/30\n",
      "13/13 - 0s - loss: 1.4515 - accuracy: 0.7200 - val_loss: 1.8026 - val_accuracy: 0.3667\n",
      "Epoch 5/30\n",
      "13/13 - 0s - loss: 1.2462 - accuracy: 0.8800 - val_loss: 1.6837 - val_accuracy: 0.4667\n",
      "Epoch 6/30\n",
      "13/13 - 0s - loss: 1.0785 - accuracy: 0.9200 - val_loss: 1.5945 - val_accuracy: 0.5667\n",
      "Epoch 7/30\n",
      "13/13 - 0s - loss: 0.9368 - accuracy: 0.9400 - val_loss: 1.5275 - val_accuracy: 0.5667\n",
      "Epoch 8/30\n",
      "13/13 - 0s - loss: 0.8172 - accuracy: 0.9400 - val_loss: 1.4606 - val_accuracy: 0.6000\n",
      "Epoch 9/30\n",
      "13/13 - 0s - loss: 0.7190 - accuracy: 1.0000 - val_loss: 1.4056 - val_accuracy: 0.6333\n",
      "Epoch 10/30\n",
      "13/13 - 0s - loss: 0.6361 - accuracy: 1.0000 - val_loss: 1.3664 - val_accuracy: 0.6333\n",
      "Epoch 11/30\n",
      "13/13 - 0s - loss: 0.5716 - accuracy: 1.0000 - val_loss: 1.3241 - val_accuracy: 0.6667\n",
      "Epoch 12/30\n",
      "13/13 - 0s - loss: 0.5136 - accuracy: 1.0000 - val_loss: 1.3152 - val_accuracy: 0.6667\n",
      "Epoch 13/30\n",
      "13/13 - 0s - loss: 0.4627 - accuracy: 1.0000 - val_loss: 1.2841 - val_accuracy: 0.6333\n",
      "Epoch 14/30\n",
      "13/13 - 0s - loss: 0.4175 - accuracy: 1.0000 - val_loss: 1.2456 - val_accuracy: 0.6333\n",
      "Epoch 15/30\n",
      "13/13 - 0s - loss: 0.3783 - accuracy: 1.0000 - val_loss: 1.2222 - val_accuracy: 0.6667\n",
      "Epoch 16/30\n",
      "13/13 - 0s - loss: 0.3463 - accuracy: 1.0000 - val_loss: 1.2063 - val_accuracy: 0.6333\n",
      "Epoch 17/30\n",
      "13/13 - 0s - loss: 0.3188 - accuracy: 1.0000 - val_loss: 1.1922 - val_accuracy: 0.6667\n",
      "Epoch 18/30\n",
      "13/13 - 0s - loss: 0.2936 - accuracy: 1.0000 - val_loss: 1.1723 - val_accuracy: 0.6667\n",
      "Epoch 19/30\n",
      "13/13 - 0s - loss: 0.2695 - accuracy: 1.0000 - val_loss: 1.1654 - val_accuracy: 0.6667\n",
      "Epoch 20/30\n",
      "13/13 - 0s - loss: 0.2503 - accuracy: 1.0000 - val_loss: 1.1455 - val_accuracy: 0.6667\n",
      "Epoch 21/30\n",
      "13/13 - 0s - loss: 0.2325 - accuracy: 1.0000 - val_loss: 1.1431 - val_accuracy: 0.6667\n",
      "Epoch 22/30\n",
      "13/13 - 0s - loss: 0.2161 - accuracy: 1.0000 - val_loss: 1.1309 - val_accuracy: 0.6667\n",
      "Epoch 23/30\n",
      "13/13 - 0s - loss: 0.2015 - accuracy: 1.0000 - val_loss: 1.1202 - val_accuracy: 0.6667\n",
      "Epoch 24/30\n",
      "13/13 - 0s - loss: 0.1886 - accuracy: 1.0000 - val_loss: 1.1122 - val_accuracy: 0.6667\n",
      "Epoch 25/30\n",
      "13/13 - 0s - loss: 0.1781 - accuracy: 1.0000 - val_loss: 1.1074 - val_accuracy: 0.6667\n",
      "Epoch 26/30\n",
      "13/13 - 0s - loss: 0.1664 - accuracy: 1.0000 - val_loss: 1.1009 - val_accuracy: 0.6667\n",
      "Epoch 27/30\n",
      "13/13 - 0s - loss: 0.1572 - accuracy: 1.0000 - val_loss: 1.0898 - val_accuracy: 0.7000\n",
      "Epoch 28/30\n",
      "13/13 - 0s - loss: 0.1491 - accuracy: 1.0000 - val_loss: 1.0862 - val_accuracy: 0.6667\n",
      "Epoch 29/30\n",
      "13/13 - 0s - loss: 0.1403 - accuracy: 1.0000 - val_loss: 1.0833 - val_accuracy: 0.6667\n",
      "Epoch 30/30\n",
      "13/13 - 0s - loss: 0.1324 - accuracy: 1.0000 - val_loss: 1.0794 - val_accuracy: 0.6667\n"
     ]
    }
   ],
   "source": [
    "#Classical Model\n",
    "c_model = MyModel()\n",
    "\n",
    "c_history = c_model.fit(\n",
    "    train_images,\n",
    "    train_labels,\n",
    "    validation_data=(test_images, test_labels),\n",
    "    batch_size=4,\n",
    "    epochs=n_epochs,\n",
    "    verbose=2,\n",
    ")"
   ]
  },
  {
   "cell_type": "markdown",
   "metadata": {},
   "source": [
    "## Results"
   ]
  },
  {
   "cell_type": "code",
   "execution_count": 15,
   "metadata": {},
   "outputs": [
    {
     "data": {
      "image/png": "[encoded data removed]",
      "text/plain": [
       "<Figure size 432x648 with 2 Axes>"
      ]
     },
     "metadata": {},
     "output_type": "display_data"
    }
   ],
   "source": [
    "plt.style.use(\"seaborn\")\n",
    "fig, (ax1, ax2) = plt.subplots(2, 1, figsize=(6, 9))\n",
    "\n",
    "ax1.plot(q_history.history[\"val_accuracy\"], \"-ob\", label=\"With quantum layer\")\n",
    "ax1.plot(c_history.history[\"val_accuracy\"], \"-og\", label=\"Without quantum layer\")\n",
    "ax1.set_ylabel(\"Accuracy\")\n",
    "ax1.set_ylim([0, 1])\n",
    "ax1.set_xlabel(\"Epoch\")\n",
    "ax1.legend()\n",
    "\n",
    "ax2.plot(q_history.history[\"val_loss\"], \"-ob\", label=\"With quantum layer\")\n",
    "ax2.plot(c_history.history[\"val_loss\"], \"-og\", label=\"Without quantum layer\")\n",
    "ax2.set_ylabel(\"Loss\")\n",
    "ax2.set_ylim(top=2.5)\n",
    "ax2.set_xlabel(\"Epoch\")\n",
    "ax2.legend()\n",
    "plt.tight_layout()\n",
    "plt.show()"
   ]
  },
  {
   "cell_type": "code",
   "execution_count": null,
   "metadata": {},
   "outputs": [],
   "source": []
  },
  {
   "cell_type": "code",
   "execution_count": null,
   "metadata": {},
   "outputs": [],
   "source": []
  },
  {
   "cell_type": "code",
   "execution_count": null,
   "metadata": {},
   "outputs": [],
   "source": []
  },
  {
   "cell_type": "code",
   "execution_count": null,
   "metadata": {},
   "outputs": [],
   "source": []
  },
  {
   "cell_type": "code",
   "execution_count": null,
   "metadata": {},
   "outputs": [],
   "source": []
  },
  {
   "cell_type": "code",
   "execution_count": null,
   "metadata": {},
   "outputs": [],
   "source": []
  },
  {
   "cell_type": "code",
   "execution_count": null,
   "metadata": {},
   "outputs": [],
   "source": []
  },
  {
   "cell_type": "code",
   "execution_count": null,
   "metadata": {},
   "outputs": [],
   "source": []
  }
 ],
 "metadata": {
  "kernelspec": {
   "display_name": "Python 3",
   "language": "python",
   "name": "python3"
  },
  "language_info": {
   "codemirror_mode": {
    "name": "ipython",
    "version": 3
   },
   "file_extension": ".py",
   "mimetype": "text/x-python",
   "name": "python",
   "nbconvert_exporter": "python",
   "pygments_lexer": "ipython3",
   "version": "3.7.6"
  }
 },
 "nbformat": 4,
 "nbformat_minor": 4
}
