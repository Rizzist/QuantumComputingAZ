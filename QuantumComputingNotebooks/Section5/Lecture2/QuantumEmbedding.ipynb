{
 "cells": [
  {
   "cell_type": "code",
   "execution_count": 1,
   "metadata": {},
   "outputs": [],
   "source": [
    "import random\n",
    "import matplotlib.pyplot as plt\n",
    "from pprint import pprint\n",
    "\n",
    "from pennylane import numpy as np\n",
    "import pennylane as qml\n",
    "from pennylane.templates import AngleEmbedding, AmplitudeEmbedding, BasisEmbedding\n",
    "from pennylane.operation import Tensor\n",
    "#https://pennylane.readthedocs.io/en/stable/introduction/templates.html"
   ]
  },
  {
   "cell_type": "code",
   "execution_count": 2,
   "metadata": {},
   "outputs": [],
   "source": [
    "dev1 = qml.device(\"default.qubit\", wires=2)"
   ]
  },
  {
   "cell_type": "code",
   "execution_count": 3,
   "metadata": {},
   "outputs": [],
   "source": [
    "@qml.qnode(dev1)\n",
    "def circuit(params):\n",
    "    qml.RX(params[0], wires=0)\n",
    "    qml.RY(params[1], wires=1)\n",
    "    return qml.expval(qml.PauliZ(0)) #0 or 1: Z, + or -: X, +i or -i: Y"
   ]
  },
  {
   "cell_type": "markdown",
   "metadata": {},
   "source": [
    "## Angle Embedding"
   ]
  },
  {
   "cell_type": "code",
   "execution_count": 7,
   "metadata": {},
   "outputs": [
    {
     "name": "stdout",
     "output_type": "stream",
     "text": [
      "Qubits: 2 \tTensor Product: PauliZ(wires=[0]) @ PauliZ(wires=[1])\n"
     ]
    }
   ],
   "source": [
    "pparams = [0.5, 0.3] #b/w 0 and 1\n",
    "n_qubits = len(pparams) #1 qubit per data point\n",
    "paulis = []\n",
    "for i in range(n_qubits):\n",
    "    paulis.append(qml.PauliZ(i))\n",
    "print(\"Qubits:\",n_qubits, \"\\tTensor Product:\", Tensor(*paulis))\n",
    "@qml.qnode(dev1)\n",
    "def circuit(params):\n",
    "    AngleEmbedding(params, wires=range(n_qubits))\n",
    "    return qml.expval(Tensor(*paulis)) # qml.PauliZ(0) @ qml.PauliZ(1)) #<< Tensor Product"
   ]
  },
  {
   "cell_type": "code",
   "execution_count": 8,
   "metadata": {},
   "outputs": [
    {
     "name": "stdout",
     "output_type": "stream",
     "text": [
      "0.8383866435942032\n"
     ]
    }
   ],
   "source": [
    "print(circuit(pparams))"
   ]
  },
  {
   "cell_type": "markdown",
   "metadata": {},
   "source": [
    "## Amplitude Embedding"
   ]
  },
  {
   "cell_type": "code",
   "execution_count": 9,
   "metadata": {},
   "outputs": [
    {
     "name": "stdout",
     "output_type": "stream",
     "text": [
      "[1.0, 2.0, 3.0, 7.0]\n",
      "Qubits: 2 \tTensor Product: PauliZ(wires=[0]) @ PauliZ(wires=[1])\n"
     ]
    }
   ],
   "source": [
    "dev2 = qml.device(\"default.qubit\", wires=2)\n",
    "pparams = [1, 2, 3, 7] #input data\n",
    "pparams = [float(i) for i in pparams] #floatafy\n",
    "print(pparams)\n",
    "n_qubits = int(np.log2(len(pparams))) #for 4 data points, u need 2 qubits\n",
    "\n",
    "print(\"Qubits:\",n_qubits, \"\\tTensor Product:\", Tensor(*paulis))\n",
    "@qml.qnode(dev2)\n",
    "def circuit(params):\n",
    "    AmplitudeEmbedding(params, wires=range(n_qubits), normalize=True)\n",
    "    return [qml.expval(qml.PauliZ(i)) for i in range(n_qubits)]"
   ]
  },
  {
   "cell_type": "code",
   "execution_count": 10,
   "metadata": {},
   "outputs": [
    {
     "name": "stdout",
     "output_type": "stream",
     "text": [
      "[-0.84126984 -0.68253968]\n"
     ]
    }
   ],
   "source": [
    "print(circuit(pparams))"
   ]
  },
  {
   "cell_type": "markdown",
   "metadata": {},
   "source": [
    "## Basis Embedding"
   ]
  },
  {
   "cell_type": "code",
   "execution_count": 12,
   "metadata": {},
   "outputs": [
    {
     "name": "stdout",
     "output_type": "stream",
     "text": [
      "[[0, [-0.45, -0.66]],\n",
      " [0, [-0.66, -0.45]],\n",
      " [1, [0.36, 0.63]],\n",
      " [0, [-0.46, -0.38]],\n",
      " [1, [0.6, 0.38]],\n",
      " [1, [0.69, 0.58]],\n",
      " [0, [-0.4, -0.49]],\n",
      " [1, [0.32, 0.43]],\n",
      " [0, [-0.37, -0.41]],\n",
      " [0, [-0.45, -0.66]]]\n",
      "Qubits: 24\n"
     ]
    }
   ],
   "source": [
    "np.random.seed(8)\n",
    "n_qubits = 24\n",
    "dev3 = qml.device(\"default.qubit\", wires=n_qubits)\n",
    "pparams = [] #input data\n",
    "for i in range(n_qubits):\n",
    "    k = 0\n",
    "    if (random.randint(-100,100) < 0):\n",
    "        j = random.randint(-70,-30)/100\n",
    "        p = random.randint(-70,-30)/100\n",
    "    else:\n",
    "        j = random.randint(30,70)/100\n",
    "        p = random.randint(30,70)/100\n",
    "    if j > 0:\n",
    "        k = 1\n",
    "    pparams.append([k, [j, p]])\n",
    "pprint(pparams[:10])\n",
    "print(\"Qubits:\",n_qubits)\n",
    "@qml.qnode(dev3)\n",
    "def circuit(params):\n",
    "    BasisEmbedding(params, wires=range(n_qubits))\n",
    "    return [qml.expval(qml.PauliZ(i)) for i in range(n_qubits)]"
   ]
  },
  {
   "cell_type": "code",
   "execution_count": 13,
   "metadata": {},
   "outputs": [
    {
     "data": {
      "text/plain": [
       "Text(0, 0.5, 'Y Coord')"
      ]
     },
     "execution_count": 13,
     "metadata": {},
     "output_type": "execute_result"
    },
    {
     "data": {
      "image/png": "[encoded data removed]",
      "text/plain": [
       "<Figure size 432x288 with 1 Axes>"
      ]
     },
     "metadata": {
      "needs_background": "light"
     },
     "output_type": "display_data"
    }
   ],
   "source": [
    "result1 = [i[1][1] for i in pparams if i[0] == 0]\n",
    "datainput1 = [i[1][0] for i in pparams if i[0] == 0]\n",
    "\n",
    "result2 = [i[1][1] for i in pparams if i[0] == 1]\n",
    "datainput2 = [i[1][0] for i in pparams if i[0] == 1]\n",
    "plt.scatter(result1, datainput1)\n",
    "plt.scatter(result2, datainput2)\n",
    "plt.xlim([-1, 1])\n",
    "plt.ylim([-1, 1])\n",
    "plt.xlabel('X Coord')\n",
    "plt.ylabel('Y Coord')"
   ]
  },
  {
   "cell_type": "code",
   "execution_count": 14,
   "metadata": {},
   "outputs": [
    {
     "data": {
      "text/plain": [
       "tensor([ 1.,  1., -1.,  1., -1., -1.,  1., -1.,  1.,  1.,  1.,  1., -1.,\n",
       "         1.,  1., -1., -1.,  1.,  1.,  1.,  1., -1.,  1.,  1.], requires_grad=True)"
      ]
     },
     "execution_count": 14,
     "metadata": {},
     "output_type": "execute_result"
    }
   ],
   "source": [
    "circuit(list(zip(*pparams))[0])"
   ]
  },
  {
   "cell_type": "code",
   "execution_count": null,
   "metadata": {},
   "outputs": [],
   "source": []
  },
  {
   "cell_type": "code",
   "execution_count": null,
   "metadata": {},
   "outputs": [],
   "source": []
  },
  {
   "cell_type": "code",
   "execution_count": null,
   "metadata": {},
   "outputs": [],
   "source": []
  },
  {
   "cell_type": "code",
   "execution_count": null,
   "metadata": {},
   "outputs": [],
   "source": []
  },
  {
   "cell_type": "code",
   "execution_count": null,
   "metadata": {},
   "outputs": [],
   "source": []
  },
  {
   "cell_type": "code",
   "execution_count": null,
   "metadata": {},
   "outputs": [],
   "source": []
  },
  {
   "cell_type": "code",
   "execution_count": null,
   "metadata": {},
   "outputs": [],
   "source": []
  },
  {
   "cell_type": "code",
   "execution_count": null,
   "metadata": {},
   "outputs": [],
   "source": []
  },
  {
   "cell_type": "code",
   "execution_count": null,
   "metadata": {},
   "outputs": [],
   "source": []
  },
  {
   "cell_type": "code",
   "execution_count": null,
   "metadata": {},
   "outputs": [],
   "source": []
  },
  {
   "cell_type": "code",
   "execution_count": null,
   "metadata": {},
   "outputs": [],
   "source": []
  }
 ],
 "metadata": {
  "kernelspec": {
   "display_name": "Python 3",
   "language": "python",
   "name": "python3"
  },
  "language_info": {
   "codemirror_mode": {
    "name": "ipython",
    "version": 3
   },
   "file_extension": ".py",
   "mimetype": "text/x-python",
   "name": "python",
   "nbconvert_exporter": "python",
   "pygments_lexer": "ipython3",
   "version": "3.7.6"
  }
 },
 "nbformat": 4,
 "nbformat_minor": 4
}
