{
 "cells": [
  {
   "cell_type": "code",
   "execution_count": 1,
   "metadata": {},
   "outputs": [],
   "source": [
    "import random\n",
    "import matplotlib.pyplot as plt\n",
    "from pprint import pprint\n",
    "\n",
    "from pennylane import numpy as np\n",
    "import pennylane as qml\n",
    "from pennylane.templates import AngleEmbedding, AmplitudeEmbedding, BasisEmbedding\n",
    "from pennylane.operation import Tensor\n",
    "#https://pennylane.readthedocs.io/en/stable/introduction/templates.html"
   ]
  },
  {
   "cell_type": "code",
   "execution_count": 2,
   "metadata": {},
   "outputs": [],
   "source": [
    "dev1 = qml.device(\"default.qubit\", wires=2)"
   ]
  },
  {
   "cell_type": "code",
   "execution_count": 3,
   "metadata": {},
   "outputs": [],
   "source": [
    "@qml.qnode(dev1)\n",
    "def circuit(params):\n",
    "    qml.RX(params[0], wires=0)\n",
    "    qml.RY(params[1], wires=1)\n",
    "    return qml.expval(qml.PauliZ(0)) #0 or 1: Z, + or -: X, +i or -i: Y"
   ]
  },
  {
   "cell_type": "markdown",
   "metadata": {},
   "source": [
    "## Ansatz"
   ]
  },
  {
   "cell_type": "code",
   "execution_count": 96,
   "metadata": {},
   "outputs": [],
   "source": [
    "n_qubits = 4\n",
    "dev2 = qml.device(\"default.qubit\", wires=n_qubits)\n",
    "\n",
    "def ansatz0():\n",
    "    if (random.randint(0, 5) > 2):\n",
    "        qml.RX(np.pi/2, wires=0)\n",
    "    if (random.randint(0, 10) > 5):\n",
    "        qml.RX(np.pi/2, wires=2)\n",
    "\n",
    "def ansatz1():\n",
    "    #Qubits 1, 2\n",
    "    qml.Hadamard(wires=0)\n",
    "    qml.Hadamard(wires=1)\n",
    "    qml.CNOT(wires=[1, 0])\n",
    "    qml.Hadamard(wires=0)\n",
    "    #Qubits 3, 4\n",
    "    qml.Hadamard(wires=2)\n",
    "    qml.Hadamard(wires=3)\n",
    "    qml.CNOT(wires=[3, 2])\n",
    "    qml.Hadamard(wires=2)\n",
    "    \n",
    "def ansatz2():\n",
    "    #Qubits 1, 2\n",
    "    qml.Hadamard(wires=0)\n",
    "    qml.Hadamard(wires=1)\n",
    "    qml.CNOT(wires=[1, 0])\n",
    "    qml.Hadamard(wires=0)\n",
    "    \n",
    "def ansatz3():\n",
    "    #Qubits 3, 4\n",
    "    qml.Hadamard(wires=2)\n",
    "    qml.Hadamard(wires=3)\n",
    "    qml.CNOT(wires=[3, 2])\n",
    "    qml.Hadamard(wires=2)\n",
    "\n",
    "    \n",
    "\n",
    "def ansatzQFT():\n",
    "    qml.QFT(wires=[0, 1, 2, 3])\n",
    "\n",
    "\n",
    "\n",
    "@qml.qnode(dev2)\n",
    "def circuitMix():\n",
    "    ansatz0()\n",
    "    ansatz1()\n",
    "    return [qml.expval(qml.PauliZ(i)) for i in range(n_qubits)]\n",
    "\n",
    "\n",
    "@qml.qnode(dev2)\n",
    "def circuitShake():\n",
    "    ansatz0()\n",
    "    if (random.randint(0, 20) > 10):\n",
    "        ansatz2()\n",
    "    else:\n",
    "        ansatz3()\n",
    "    return [qml.expval(qml.PauliZ(i)) for i in range(n_qubits)]\n",
    "\n",
    "\n",
    "@qml.qnode(dev2)\n",
    "def circuitQFT():\n",
    "    qml.RX(np.pi/2, wires=0)\n",
    "    qml.RX(np.pi/2, wires=2)\n",
    "    ansatzQFT()\n",
    "    return [qml.expval(qml.PauliZ(i)) for i in range(n_qubits)]"
   ]
  },
  {
   "cell_type": "code",
   "execution_count": 97,
   "metadata": {},
   "outputs": [],
   "source": [
    "def rounder(x):\n",
    "    y = []\n",
    "    for i in x:\n",
    "        if i < -0.9:\n",
    "            y.append(-1)\n",
    "        elif i > -0.1 and i < 0.1:\n",
    "            y.append(0)\n",
    "        elif i > 0.9:\n",
    "            y.append(1)\n",
    "        else:\n",
    "            y.append(i)\n",
    "    return y"
   ]
  },
  {
   "cell_type": "code",
   "execution_count": 98,
   "metadata": {},
   "outputs": [
    {
     "name": "stdout",
     "output_type": "stream",
     "text": [
      "[0, 0, 1, 0]\n"
     ]
    }
   ],
   "source": [
    "print(rounder(circuitMix()))"
   ]
  },
  {
   "cell_type": "code",
   "execution_count": 99,
   "metadata": {},
   "outputs": [
    {
     "name": "stdout",
     "output_type": "stream",
     "text": [
      "[1, 0, 1, 1]\n"
     ]
    }
   ],
   "source": [
    "print(rounder(circuitShake()))"
   ]
  },
  {
   "cell_type": "code",
   "execution_count": 100,
   "metadata": {},
   "outputs": [
    {
     "name": "stdout",
     "output_type": "stream",
     "text": [
      "[0, tensor(0.60355339, requires_grad=True), 0, 0]\n"
     ]
    }
   ],
   "source": [
    "print(rounder(circuitQFT()))"
   ]
  },
  {
   "cell_type": "code",
   "execution_count": null,
   "metadata": {},
   "outputs": [],
   "source": []
  },
  {
   "cell_type": "code",
   "execution_count": null,
   "metadata": {},
   "outputs": [],
   "source": []
  },
  {
   "cell_type": "code",
   "execution_count": null,
   "metadata": {},
   "outputs": [],
   "source": []
  },
  {
   "cell_type": "code",
   "execution_count": null,
   "metadata": {},
   "outputs": [],
   "source": []
  },
  {
   "cell_type": "code",
   "execution_count": null,
   "metadata": {},
   "outputs": [],
   "source": []
  },
  {
   "cell_type": "code",
   "execution_count": null,
   "metadata": {},
   "outputs": [],
   "source": []
  },
  {
   "cell_type": "code",
   "execution_count": null,
   "metadata": {},
   "outputs": [],
   "source": []
  },
  {
   "cell_type": "code",
   "execution_count": null,
   "metadata": {},
   "outputs": [],
   "source": []
  }
 ],
 "metadata": {
  "kernelspec": {
   "display_name": "Python 3",
   "language": "python",
   "name": "python3"
  },
  "language_info": {
   "codemirror_mode": {
    "name": "ipython",
    "version": 3
   },
   "file_extension": ".py",
   "mimetype": "text/x-python",
   "name": "python",
   "nbconvert_exporter": "python",
   "pygments_lexer": "ipython3",
   "version": "3.7.6"
  }
 },
 "nbformat": 4,
 "nbformat_minor": 4
}
