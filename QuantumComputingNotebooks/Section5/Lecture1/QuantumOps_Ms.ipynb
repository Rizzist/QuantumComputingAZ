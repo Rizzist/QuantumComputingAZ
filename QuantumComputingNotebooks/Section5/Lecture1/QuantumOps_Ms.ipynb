{
 "cells": [
  {
   "cell_type": "markdown",
   "metadata": {},
   "source": [
    "# <center>Quantum Operations & Measurements</center>"
   ]
  },
  {
   "cell_type": "code",
   "execution_count": 1,
   "metadata": {},
   "outputs": [],
   "source": [
    "import random\n",
    "import matplotlib.pyplot as plt\n",
    "from pprint import pprint \n",
    "\n",
    "from pennylane import numpy as np\n",
    "import pennylane as qml\n",
    "from pennylane.operation import Tensor\n",
    "\n",
    "#pip install pennylane\n",
    "#https://pennylane.readthedocs.io/en/stable/introduction/templates.html"
   ]
  },
  {
   "cell_type": "code",
   "execution_count": 2,
   "metadata": {},
   "outputs": [],
   "source": [
    "dev1 = qml.device(\"default.qubit\", wires=2) #wires = # of qubits/qumodes"
   ]
  },
  {
   "cell_type": "code",
   "execution_count": 3,
   "metadata": {},
   "outputs": [],
   "source": [
    "@qml.qnode(dev1)\n",
    "def circuit0(params):\n",
    "    qml.RX(params[0], wires=0)\n",
    "    qml.RY(params[1], wires=1)\n",
    "    return qml.expval(qml.PauliZ(0)) #0 or 1: Z, + or -: X, +i or -i: Y"
   ]
  },
  {
   "cell_type": "markdown",
   "metadata": {},
   "source": [
    "## Qubit Gates"
   ]
  },
  {
   "cell_type": "code",
   "execution_count": 4,
   "metadata": {},
   "outputs": [],
   "source": [
    "dev2 = qml.device(\"default.qubit\", wires=4)"
   ]
  },
  {
   "cell_type": "code",
   "execution_count": 5,
   "metadata": {},
   "outputs": [],
   "source": [
    "pparams = [0.5, 0.3]\n",
    "n_qubits = 4\n",
    "paulis = []\n",
    "for i in range(n_qubits):\n",
    "    paulis.append(qml.PauliZ(i))\n",
    "\n",
    "@qml.qnode(dev2)\n",
    "def circuitGates(params):\n",
    "    qml.RX(params[0], wires=0)\n",
    "    qml.RY(params[1], wires=1)\n",
    "    qml.Rot(0, np.pi/2, 0, wires=2) #X, Y, Z\n",
    "    qml.CNOT(wires=[0, 1])\n",
    "    qml.SWAP(wires=[0, 3])\n",
    "    qml.CSWAP(wires=[1, 2, 3])\n",
    "    qml.QFT(wires=[0, 1, 2])\n",
    "    qml.Toffoli(wires=[1, 2, 3])\n",
    "    qml.MultiControlledX([0, 2, 3], 1)\n",
    "    qml.U1(np.pi/6, wires=3)\n",
    "    qml.U2(np.pi/2, -np.pi/5, wires=2)\n",
    "    qml.U3(-11*np.pi/12, 4*np.pi/5, np.pi, wires=1)\n",
    "    return qml.expval(Tensor(*paulis))\n",
    "#Regular Qubit Gates\n",
    "#Quantum Trapped Ion Qubit Gates"
   ]
  },
  {
   "cell_type": "code",
   "execution_count": 6,
   "metadata": {},
   "outputs": [
    {
     "data": {
      "text/plain": [
       "tensor(0.529439, requires_grad=True)"
      ]
     },
     "execution_count": 6,
     "metadata": {},
     "output_type": "execute_result"
    }
   ],
   "source": [
    "circuitGates(pparams)"
   ]
  },
  {
   "cell_type": "markdown",
   "metadata": {},
   "source": [
    "## Qubit State Preparation"
   ]
  },
  {
   "cell_type": "code",
   "execution_count": 21,
   "metadata": {},
   "outputs": [],
   "source": [
    "#Basis States\n",
    "pparams = [0, 1, 1, 1] #n params for n qubits\n",
    "    \n",
    "@qml.qnode(dev2)\n",
    "def circuitBasis(params):\n",
    "    qml.BasisState(params, wires=[0, 1, 2, 3])\n",
    "    return [qml.expval(qml.PauliZ(i)) for i in range(4)]"
   ]
  },
  {
   "cell_type": "code",
   "execution_count": 22,
   "metadata": {},
   "outputs": [
    {
     "data": {
      "text/plain": [
       "tensor([ 1., -1., -1., -1.], requires_grad=True)"
      ]
     },
     "execution_count": 22,
     "metadata": {},
     "output_type": "execute_result"
    }
   ],
   "source": [
    "circuitBasis(pparams)"
   ]
  },
  {
   "cell_type": "code",
   "execution_count": 23,
   "metadata": {},
   "outputs": [],
   "source": [
    "#2^n params, for n qubits\n",
    "\n",
    "#State Vectors\n",
    "@qml.qnode(dev2)\n",
    "def circuitState(params):\n",
    "    qml.QubitStateVector(params, wires=[0, 1, 2, 3])\n",
    "    return [qml.expval(qml.PauliZ(i)) for i in range(4)]"
   ]
  },
  {
   "cell_type": "code",
   "execution_count": 24,
   "metadata": {},
   "outputs": [
    {
     "name": "stdout",
     "output_type": "stream",
     "text": [
      "[0, 0, 0, 0, 0, 1, 0, 0, 0, 0, 0, 0, 0, 0, 0, 0]\n"
     ]
    },
    {
     "data": {
      "text/plain": [
       "tensor([ 1., -1.,  1., -1.], requires_grad=True)"
      ]
     },
     "execution_count": 24,
     "metadata": {},
     "output_type": "execute_result"
    }
   ],
   "source": [
    "pparams = [0 for i in range(2**n_qubits)]\n",
    "pparams[5] = 1\n",
    "print(pparams)\n",
    "circuitState(pparams)"
   ]
  },
  {
   "cell_type": "markdown",
   "metadata": {},
   "source": [
    "## Noisy Channels"
   ]
  },
  {
   "cell_type": "code",
   "execution_count": 41,
   "metadata": {},
   "outputs": [],
   "source": [
    "#Not all Quantum Computers are perfect, we have errors!\n",
    "#Simulate Errors, we use quantum Channels\n",
    "shots=random.randint(1, 50)\n",
    "dev3 = qml.device(\"default.mixed\", wires=4, shots=shots)\n",
    "@qml.qnode(dev3)\n",
    "def circuitNoise(params):\n",
    "    qml.RX(params[0], wires=3)\n",
    "    qml.RY(params[1], wires=1)\n",
    "    qml.AmplitudeDamping(0.1, wires=0)\n",
    "    qml.PhaseDamping(0.1, wires=1) #Phase of \\ket{1}\n",
    "    qml.BitFlip(0.5, wires=2) #flip 0 to 1, or 1 to 0 if occurs\n",
    "    qml.PhaseFlip(0.5, wires=3) #1 to -1, or -1 to 1\n",
    "    return [qml.expval(qml.PauliZ(i)) for i in range(4)]"
   ]
  },
  {
   "cell_type": "code",
   "execution_count": 42,
   "metadata": {},
   "outputs": [
    {
     "name": "stdout",
     "output_type": "stream",
     "text": [
      "[1.         1.         0.18918919 1.        ]\n",
      "[1.         1.         0.08108108 1.        ]\n",
      "[1.         1.         0.08108108 1.        ]\n",
      "[1.         1.         0.13513514 1.        ]\n",
      "[ 1.          1.         -0.02702703  1.        ]\n",
      "[1.         1.         0.24324324 1.        ]\n",
      "[ 1.          1.         -0.02702703  1.        ]\n",
      "[ 1.          1.         -0.02702703  1.        ]\n",
      "[ 1.          1.         -0.13513514  1.        ]\n",
      "[ 1.          1.         -0.18918919  1.        ]\n"
     ]
    }
   ],
   "source": [
    "pparams=[0, 0]\n",
    "for i in range(10):\n",
    "    print(circuitNoise(pparams))"
   ]
  },
  {
   "cell_type": "markdown",
   "metadata": {},
   "source": [
    "## Qubit Observables"
   ]
  },
  {
   "cell_type": "code",
   "execution_count": 43,
   "metadata": {},
   "outputs": [],
   "source": [
    "@qml.qnode(dev2)\n",
    "def circuitObs1(params):\n",
    "    qml.RX(params[0], wires=3)\n",
    "    qml.RY(params[1], wires=1)\n",
    "    return qml.expval(qml.PauliX(0) @ qml.PauliY(1) @ qml.PauliZ(2))"
   ]
  },
  {
   "cell_type": "code",
   "execution_count": 44,
   "metadata": {},
   "outputs": [],
   "source": [
    "@qml.qnode(dev2)\n",
    "def circuitObs2(params):\n",
    "    qml.RX(params[0], wires=0)\n",
    "    qml.RY(params[1], wires=1)\n",
    "    return qml.expval(qml.Hadamard(0))"
   ]
  },
  {
   "cell_type": "code",
   "execution_count": 45,
   "metadata": {},
   "outputs": [
    {
     "data": {
      "text/plain": [
       "tensor(0., requires_grad=True)"
      ]
     },
     "execution_count": 45,
     "metadata": {},
     "output_type": "execute_result"
    }
   ],
   "source": [
    "pparams=[0, 0]\n",
    "circuitObs1(pparams)"
   ]
  },
  {
   "cell_type": "code",
   "execution_count": 48,
   "metadata": {},
   "outputs": [
    {
     "data": {
      "text/plain": [
       "tensor(-0.70710678, requires_grad=True)"
      ]
     },
     "execution_count": 48,
     "metadata": {},
     "output_type": "execute_result"
    }
   ],
   "source": [
    "pparams=[random.randint(0,2)*np.pi/2, 0]\n",
    "circuitObs2(pparams)"
   ]
  },
  {
   "cell_type": "markdown",
   "metadata": {},
   "source": [
    "## Continuous Variable Gates"
   ]
  },
  {
   "cell_type": "code",
   "execution_count": 49,
   "metadata": {},
   "outputs": [],
   "source": [
    "n_qumodes = 4 #Quantum Optical Devices\n",
    "dev4 = qml.device(\"default.gaussian\", wires=n_qumodes)\n",
    "@qml.qnode(dev4)\n",
    "def circuitCVGates():\n",
    "    qml.Displacement(2, np.pi/4, wires=0)\n",
    "    qml.Squeezing(0.3, -3*np.pi/2, wires=1)\n",
    "    qml.Beamsplitter(7*np.pi/8, -2*np.pi/5, wires=range(2, 4))\n",
    "    return qml.expval(qml.NumberOperator(wires=2))"
   ]
  },
  {
   "cell_type": "code",
   "execution_count": 50,
   "metadata": {},
   "outputs": [
    {
     "data": {
      "text/plain": [
       "tensor(0., requires_grad=False)"
      ]
     },
     "execution_count": 50,
     "metadata": {},
     "output_type": "execute_result"
    }
   ],
   "source": [
    "circuitCVGates()"
   ]
  },
  {
   "cell_type": "markdown",
   "metadata": {},
   "source": [
    "## Continuous Variable Preparation"
   ]
  },
  {
   "cell_type": "code",
   "execution_count": 51,
   "metadata": {},
   "outputs": [],
   "source": [
    "n_qumodes = 4\n",
    "dev5 = qml.device(\"strawberryfields.fock\", cutoff_dim=6, wires=n_qumodes)\n",
    "\n",
    "\n",
    "@qml.qnode(dev5)\n",
    "def circuitCVPrep():\n",
    "    qml.FockState(3, wires=2)\n",
    "    qml.Beamsplitter(np.pi/4, np.pi/2, wires=range(2, 4))\n",
    "    qml.DisplacedSqueezedState(0.4, np.pi/3, 3, -9*np.pi/5, wires=0)\n",
    "    qml.Beamsplitter(np.pi/4, np.pi/2, wires=[0, 3])\n",
    "    return [qml.expval(qml.NumberOperator(wires=2)), qml.expval(qml.NumberOperator(wires=0))]\n",
    "\n"
   ]
  },
  {
   "cell_type": "code",
   "execution_count": 52,
   "metadata": {},
   "outputs": [
    {
     "data": {
      "text/plain": [
       "tensor([0.2845701 , 0.25854825], requires_grad=False)"
      ]
     },
     "execution_count": 52,
     "metadata": {},
     "output_type": "execute_result"
    }
   ],
   "source": [
    "circuitCVPrep()"
   ]
  },
  {
   "cell_type": "markdown",
   "metadata": {},
   "source": [
    "## Continuous Variable Observables"
   ]
  },
  {
   "cell_type": "code",
   "execution_count": 67,
   "metadata": {},
   "outputs": [],
   "source": [
    "@qml.qnode(dev5)\n",
    "def circuitCVObs1():\n",
    "    qml.FockState(1, wires=2)\n",
    "    qml.Beamsplitter(np.pi/4, np.pi/2, wires=range(2, 4))\n",
    "    qml.DisplacedSqueezedState(0.4, np.pi/3, 3, -9*np.pi/5, wires=0)\n",
    "    qml.Beamsplitter(np.pi/4, np.pi/2, wires=[0, 3])\n",
    "    return qml.expval(qml.X(wires=2))\n",
    "\n",
    "@qml.qnode(dev5)\n",
    "def circuitCVObs2():\n",
    "    qml.FockState(1, wires=2)\n",
    "    qml.Beamsplitter(np.pi/4, np.pi/2, wires=range(2, 4))\n",
    "    qml.DisplacedSqueezedState(0.4, np.pi/3, 3, -9*np.pi/5, wires=0)\n",
    "    qml.Beamsplitter(np.pi/4, np.pi/2, wires=[0, 3])\n",
    "    return qml.expval(qml.P(wires=2))\n",
    "\n",
    "@qml.qnode(dev5)\n",
    "def circuitCVObs3():\n",
    "    qml.FockState(2, wires=0)\n",
    "    qml.FockState(2, wires=1)\n",
    "    qml.Beamsplitter(np.pi/5, 0, wires=range(2))\n",
    "    return qml.expval(qml.FockStateProjector([1, 3], wires=[0, 1]))\n"
   ]
  },
  {
   "cell_type": "code",
   "execution_count": 68,
   "metadata": {
    "scrolled": true
   },
   "outputs": [
    {
     "name": "stdout",
     "output_type": "stream",
     "text": [
      "\n",
      "\n",
      "0.1295593135546973\n"
     ]
    }
   ],
   "source": [
    "#print(circuitCVObs1())\n",
    "print()\n",
    "#print(circuitCVObs2())\n",
    "print()\n",
    "print(circuitCVObs3())"
   ]
  },
  {
   "cell_type": "markdown",
   "metadata": {},
   "source": [
    "## Quantum Measurements"
   ]
  },
  {
   "cell_type": "code",
   "execution_count": 70,
   "metadata": {},
   "outputs": [],
   "source": [
    "dev6 = qml.device(\"default.qubit\", wires=4, shots=10)\n",
    "\n",
    "@qml.qnode(dev6)\n",
    "def circuitMeasure1():\n",
    "    qml.Hadamard(wires=3)\n",
    "    qml.CNOT(wires=[0, 1])\n",
    "    qml.SWAP(wires=[0, 3])\n",
    "    return qml.sample(qml.PauliZ(0))\n",
    "\n",
    "@qml.qnode(dev6)\n",
    "def circuitMeasure2():\n",
    "    qml.Hadamard(wires=3)\n",
    "    qml.CNOT(wires=[0, 1])\n",
    "    qml.SWAP(wires=[0, 3])\n",
    "    return qml.var(qml.PauliZ(0))\n",
    "\n",
    "@qml.qnode(dev6)\n",
    "def circuitMeasure3():\n",
    "    qml.Hadamard(wires=3)\n",
    "    qml.CNOT(wires=[0, 1])\n",
    "    qml.SWAP(wires=[0, 3])\n",
    "    return qml.state()"
   ]
  },
  {
   "cell_type": "code",
   "execution_count": 71,
   "metadata": {},
   "outputs": [
    {
     "name": "stdout",
     "output_type": "stream",
     "text": [
      "[-1 -1  1 -1 -1  1 -1  1  1 -1]\n",
      "\n",
      "0.96\n",
      "\n",
      "[0.70710678+0.j 0.        +0.j 0.        +0.j 0.        +0.j\n",
      " 0.        +0.j 0.        +0.j 0.        +0.j 0.        +0.j\n",
      " 0.70710678+0.j 0.        +0.j 0.        +0.j 0.        +0.j\n",
      " 0.        +0.j 0.        +0.j 0.        +0.j 0.        +0.j]\n"
     ]
    }
   ],
   "source": [
    "print(circuitMeasure1())\n",
    "print()\n",
    "print(circuitMeasure2())\n",
    "print()\n",
    "print(circuitMeasure3())"
   ]
  },
  {
   "cell_type": "code",
   "execution_count": null,
   "metadata": {},
   "outputs": [],
   "source": []
  },
  {
   "cell_type": "code",
   "execution_count": null,
   "metadata": {},
   "outputs": [],
   "source": []
  },
  {
   "cell_type": "code",
   "execution_count": null,
   "metadata": {},
   "outputs": [],
   "source": []
  },
  {
   "cell_type": "code",
   "execution_count": null,
   "metadata": {},
   "outputs": [],
   "source": []
  },
  {
   "cell_type": "code",
   "execution_count": null,
   "metadata": {},
   "outputs": [],
   "source": []
  },
  {
   "cell_type": "code",
   "execution_count": null,
   "metadata": {},
   "outputs": [],
   "source": []
  },
  {
   "cell_type": "code",
   "execution_count": null,
   "metadata": {},
   "outputs": [],
   "source": []
  },
  {
   "cell_type": "code",
   "execution_count": null,
   "metadata": {},
   "outputs": [],
   "source": []
  }
 ],
 "metadata": {
  "kernelspec": {
   "display_name": "Python 3",
   "language": "python",
   "name": "python3"
  },
  "language_info": {
   "codemirror_mode": {
    "name": "ipython",
    "version": 3
   },
   "file_extension": ".py",
   "mimetype": "text/x-python",
   "name": "python",
   "nbconvert_exporter": "python",
   "pygments_lexer": "ipython3",
   "version": "3.7.6"
  }
 },
 "nbformat": 4,
 "nbformat_minor": 4
}
