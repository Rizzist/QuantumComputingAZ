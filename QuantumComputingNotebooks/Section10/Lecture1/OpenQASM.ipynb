{
 "cells": [
  {
   "cell_type": "markdown",
   "metadata": {},
   "source": [
    "# <center>OpenQASM<center>\n",
    "OpenQASM: Assembly language for Quantum Computers <br>\n",
    "OpenQASM is the quantum analog of Verilog or VHDL, which are classical assembly languages"
   ]
  },
  {
   "cell_type": "code",
   "execution_count": 26,
   "metadata": {},
   "outputs": [],
   "source": [
    "import numpy as np\n",
    "from qiskit import *\n",
    "%matplotlib inline\n",
    "from math import pi, sqrt"
   ]
  },
  {
   "cell_type": "code",
   "execution_count": 27,
   "metadata": {},
   "outputs": [],
   "source": [
    "backend = Aer.get_backend('statevector_simulator')\n",
    "def getBloch(quantumC):\n",
    "    return visualization.plot_bloch_multivector(execute(quantumC, backend).\n",
    "                                         result().get_statevector())"
   ]
  },
  {
   "cell_type": "code",
   "execution_count": 28,
   "metadata": {},
   "outputs": [],
   "source": [
    "def stateGenerator(state):\n",
    "    state = state[::-1]\n",
    "    current = int(state, 2)\n",
    "    newState = [0 for i in range(0, 2**(len(state)))]\n",
    "    newState[current] = 1\n",
    "    return newState"
   ]
  },
  {
   "cell_type": "code",
   "execution_count": 29,
   "metadata": {},
   "outputs": [],
   "source": [
    "def getMeasure(quantumC, n):\n",
    "    measures = []\n",
    "    for i in range(0, n):\n",
    "        outcome = execute(quantumC, backend).result()\n",
    "        hist = outcome.get_counts()\n",
    "        for i in hist.keys():\n",
    "            measures.append(i)\n",
    "    return measures"
   ]
  },
  {
   "cell_type": "markdown",
   "metadata": {},
   "source": [
    "## Quantum Bit String Comparator"
   ]
  },
  {
   "cell_type": "code",
   "execution_count": 30,
   "metadata": {},
   "outputs": [],
   "source": [
    "circ = QuantumCircuit(3, 3)\n",
    "circ.csx(1, 2)\n",
    "circ.cx(0, 1)\n",
    "circ.crx(-pi/2, 0, 2)\n",
    "circ.csx(1, 2)\n",
    "circ.cx(0, 1)\n",
    "circ.i(2)\n",
    "\n",
    "for i in range(0, 3):\n",
    "    circ.measure(i, i)"
   ]
  },
  {
   "cell_type": "code",
   "execution_count": 31,
   "metadata": {},
   "outputs": [
    {
     "data": {
      "image/png": "[encoded data removed]",
      "text/plain": [
       "<Figure size 568.197x264.88 with 1 Axes>"
      ]
     },
     "execution_count": 31,
     "metadata": {},
     "output_type": "execute_result"
    }
   ],
   "source": [
    "circ.draw('mpl')"
   ]
  },
  {
   "cell_type": "markdown",
   "metadata": {},
   "source": [
    "## Circuit Translated to QASM"
   ]
  },
  {
   "cell_type": "code",
   "execution_count": 32,
   "metadata": {},
   "outputs": [
    {
     "data": {
      "text/plain": [
       "'OPENQASM 2.0;\\ninclude \"qelib1.inc\";\\nqreg q[3];\\ncreg c[3];\\ncsx q[1],q[2];\\ncx q[0],q[1];\\ncrx(-pi/2) q[0],q[2];\\ncsx q[1],q[2];\\ncx q[0],q[1];\\nid q[2];\\nmeasure q[0] -> c[0];\\nmeasure q[1] -> c[1];\\nmeasure q[2] -> c[2];\\n'"
      ]
     },
     "execution_count": 32,
     "metadata": {},
     "output_type": "execute_result"
    }
   ],
   "source": [
    "circ.qasm()"
   ]
  },
  {
   "cell_type": "code",
   "execution_count": 21,
   "metadata": {},
   "outputs": [
    {
     "name": "stdout",
     "output_type": "stream",
     "text": [
      "OPENQASM 2.0;\n",
      "include \"qelib1.inc\";\n",
      "qreg q[3];\n",
      "creg c[3];\n",
      "csx q[1],q[2];\n",
      "cx q[0],q[1];\n",
      "crx(-pi/2) q[0],q[2];\n",
      "csx q[1],q[2];\n",
      "cx q[0],q[1];\n",
      "id q[2];\n",
      "measure q[0] -> c[0];\n",
      "measure q[1] -> c[1];\n",
      "measure q[2] -> c[2];\n",
      "\n"
     ]
    }
   ],
   "source": [
    "print(circ.qasm())"
   ]
  },
  {
   "cell_type": "code",
   "execution_count": 22,
   "metadata": {},
   "outputs": [
    {
     "name": "stdout",
     "output_type": "stream",
     "text": [
      "\u001b[92mOPENQASM\u001b[39m \u001b[96m2\u001b[39m.\u001b[96m0\u001b[39m;\n",
      "\u001b[92minclude\u001b[39m\u001b[91m \"qelib1.inc\"\u001b[39m;\n",
      "\u001b[92mqreg\u001b[39m q[\u001b[96m3\u001b[39m];\n",
      "\u001b[92mcreg\u001b[39m c[\u001b[96m3\u001b[39m];\n",
      "csx q[\u001b[96m1\u001b[39m],q[\u001b[96m2\u001b[39m];\n",
      "\u001b[95mcx\u001b[39m q[\u001b[96m0\u001b[39m],q[\u001b[96m1\u001b[39m];\n",
      "\u001b[95mcrx\u001b[39m(-pi/\u001b[96m2\u001b[39m) q[\u001b[96m0\u001b[39m],q[\u001b[96m2\u001b[39m];\n",
      "csx q[\u001b[96m1\u001b[39m],q[\u001b[96m2\u001b[39m];\n",
      "\u001b[95mcx\u001b[39m q[\u001b[96m0\u001b[39m],q[\u001b[96m1\u001b[39m];\n",
      "\u001b[95mid\u001b[39m q[\u001b[96m2\u001b[39m];\n",
      "\u001b[94mmeasure\u001b[39m q[\u001b[96m0\u001b[39m] -> c[\u001b[96m0\u001b[39m];\n",
      "\u001b[94mmeasure\u001b[39m q[\u001b[96m1\u001b[39m] -> c[\u001b[96m1\u001b[39m];\n",
      "\u001b[94mmeasure\u001b[39m q[\u001b[96m2\u001b[39m] -> c[\u001b[96m2\u001b[39m];\n",
      "\n"
     ]
    }
   ],
   "source": [
    "circ.qasm(formatted=True)"
   ]
  },
  {
   "cell_type": "code",
   "execution_count": 23,
   "metadata": {},
   "outputs": [
    {
     "name": "stdout",
     "output_type": "stream",
     "text": [
      "\u001b[92mOPENQASM\u001b[39m \u001b[96m2\u001b[39m.\u001b[96m0\u001b[39m;\n",
      "\u001b[92minclude\u001b[39m\u001b[91m \"qelib1.inc\"\u001b[39m;\n",
      "\u001b[92mqreg\u001b[39m q[\u001b[96m3\u001b[39m];\n",
      "\u001b[92mcreg\u001b[39m c[\u001b[96m3\u001b[39m];\n",
      "csx q[\u001b[96m1\u001b[39m],q[\u001b[96m2\u001b[39m];\n",
      "\u001b[95mcx\u001b[39m q[\u001b[96m0\u001b[39m],q[\u001b[96m1\u001b[39m];\n",
      "\u001b[95mcrx\u001b[39m(-pi/\u001b[96m2\u001b[39m) q[\u001b[96m0\u001b[39m],q[\u001b[96m2\u001b[39m];\n",
      "csx q[\u001b[96m1\u001b[39m],q[\u001b[96m2\u001b[39m];\n",
      "\u001b[95mcx\u001b[39m q[\u001b[96m0\u001b[39m],q[\u001b[96m1\u001b[39m];\n",
      "\u001b[95mid\u001b[39m q[\u001b[96m2\u001b[39m];\n",
      "\u001b[94mmeasure\u001b[39m q[\u001b[96m0\u001b[39m] -> c[\u001b[96m0\u001b[39m];\n",
      "\u001b[94mmeasure\u001b[39m q[\u001b[96m1\u001b[39m] -> c[\u001b[96m1\u001b[39m];\n",
      "\u001b[94mmeasure\u001b[39m q[\u001b[96m2\u001b[39m] -> c[\u001b[96m2\u001b[39m];\n",
      "\n"
     ]
    }
   ],
   "source": [
    "circ.qasm(formatted=True, filename='qasmex.qasm')"
   ]
  },
  {
   "cell_type": "code",
   "execution_count": 33,
   "metadata": {},
   "outputs": [],
   "source": [
    "new_circ = QuantumCircuit.from_qasm_file('qasmex.qasm') #create qasm file for diff. quantum programming language"
   ]
  },
  {
   "cell_type": "code",
   "execution_count": 34,
   "metadata": {},
   "outputs": [
    {
     "data": {
      "image/png": "[encoded data removed]",
      "text/plain": [
       "<Figure size 568.197x264.88 with 1 Axes>"
      ]
     },
     "execution_count": 34,
     "metadata": {},
     "output_type": "execute_result"
    }
   ],
   "source": [
    "new_circ.draw('mpl')"
   ]
  },
  {
   "cell_type": "code",
   "execution_count": null,
   "metadata": {},
   "outputs": [],
   "source": []
  }
 ],
 "metadata": {
  "kernelspec": {
   "display_name": "Python 3",
   "language": "python",
   "name": "python3"
  },
  "language_info": {
   "codemirror_mode": {
    "name": "ipython",
    "version": 3
   },
   "file_extension": ".py",
   "mimetype": "text/x-python",
   "name": "python",
   "nbconvert_exporter": "python",
   "pygments_lexer": "ipython3",
   "version": "3.7.6"
  }
 },
 "nbformat": 4,
 "nbformat_minor": 4
}
