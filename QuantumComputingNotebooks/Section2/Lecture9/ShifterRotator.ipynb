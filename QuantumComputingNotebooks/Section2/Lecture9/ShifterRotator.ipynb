{
 "cells": [
  {
   "cell_type": "code",
   "execution_count": null,
   "metadata": {},
   "outputs": [],
   "source": [
    "from IPython.core.display import display, HTML\n",
    "display(HTML(\"<style>.container { width:90% !important; }</style>\"))"
   ]
  },
  {
   "cell_type": "code",
   "execution_count": 1,
   "metadata": {},
   "outputs": [],
   "source": [
    "import numpy as np\n",
    "from qiskit import *\n",
    "%matplotlib inline\n",
    "from math import pi, sqrt\n",
    "import random"
   ]
  },
  {
   "cell_type": "code",
   "execution_count": 2,
   "metadata": {},
   "outputs": [],
   "source": [
    "backend = Aer.get_backend('statevector_simulator')\n",
    "def getBloch(quantumC):\n",
    "    return visualization.plot_bloch_multivector(execute(quantumC, backend).\n",
    "                                         result().get_statevector())"
   ]
  },
  {
   "cell_type": "code",
   "execution_count": 3,
   "metadata": {},
   "outputs": [],
   "source": [
    "def stateGenerator(state):\n",
    "    state = state[::-1]\n",
    "    current = int(state, 2)\n",
    "    newState = [0 for i in range(0, 2**(len(state)))]\n",
    "    newState[current] = 1\n",
    "    return newState"
   ]
  },
  {
   "cell_type": "code",
   "execution_count": 4,
   "metadata": {},
   "outputs": [],
   "source": [
    "def getMeasure(quantumC, n):\n",
    "    measures = []\n",
    "    for i in range(0, n):\n",
    "        outcome = execute(quantumC, backend).result()\n",
    "        hist = outcome.get_counts()\n",
    "        for i in hist.keys():\n",
    "            measures.append(i)\n",
    "    return measures"
   ]
  },
  {
   "cell_type": "code",
   "execution_count": 5,
   "metadata": {},
   "outputs": [],
   "source": [
    "def makeCirc3(n, m, o, inp=None):\n",
    "    initState = ''\n",
    "    for i in range(0, o):\n",
    "        initState += str(1)\n",
    "    if inp != None:\n",
    "        initState = inp\n",
    "    else:\n",
    "        for i in range(0, n-o-m):\n",
    "            initState += str(random.randint(0, 1))\n",
    "    for i in range(0, m):\n",
    "        initState += str(0)\n",
    "    print(initState)\n",
    "    qr = QuantumRegister(n)\n",
    "    qc = ClassicalRegister(n)\n",
    "    circ = QuantumCircuit(qr, qc)\n",
    "    initializedState = stateGenerator(initState)\n",
    "    circ.initialize(initializedState, qr)\n",
    "    return circ"
   ]
  },
  {
   "cell_type": "code",
   "execution_count": 27,
   "metadata": {},
   "outputs": [],
   "source": [
    "def shifterCircuitMaker(n, inp=None):\n",
    "    shifterCircuit = makeCirc3(n, 0, 1, inp)\n",
    "    for i in range(0, n-2):\n",
    "        shifterCircuit.cswap(0, i+1, i+2)\n",
    "    for i in range(0, n-1):\n",
    "        shifterCircuit.measure(i, i)\n",
    "    return shifterCircuit"
   ]
  },
  {
   "cell_type": "code",
   "execution_count": 28,
   "metadata": {},
   "outputs": [
    {
     "name": "stdout",
     "output_type": "stream",
     "text": [
      "111110011111\n"
     ]
    }
   ],
   "source": [
    "shiftCircuit = shifterCircuitMaker(12)"
   ]
  },
  {
   "cell_type": "code",
   "execution_count": 29,
   "metadata": {},
   "outputs": [],
   "source": [
    "def applyShift(circ, n):\n",
    "    result = getMeasure(circ, 1)[0][::-1]\n",
    "    return shifterCircuitMaker(n, result)"
   ]
  },
  {
   "cell_type": "code",
   "execution_count": 30,
   "metadata": {},
   "outputs": [
    {
     "name": "stdout",
     "output_type": "stream",
     "text": [
      "111100111110\n",
      "111001111100\n",
      "110011111000\n",
      "100111110000\n",
      "101111100000\n",
      "111111000000\n",
      "111110000000\n",
      "111100000000\n",
      "111000000000\n",
      "110000000000\n"
     ]
    }
   ],
   "source": [
    "for i in range(0, 10):\n",
    "    shiftCircuit = applyShift(shiftCircuit, 12)"
   ]
  },
  {
   "cell_type": "code",
   "execution_count": null,
   "metadata": {},
   "outputs": [],
   "source": [
    "def shifterCircuitMaker(n, inp=None):\n",
    "    shifterCircuit = makeCirc3(n, 0, 1, inp)\n",
    "    for i in range(0, n-2):\n",
    "        shifterCircuit.cswap(0, i+1, i+2)\n",
    "    for i in range(0, n-1):\n",
    "        shifterCircuit.measure(i, i)\n",
    "    return shifterCircuit\n",
    "def applyShift(circ, n):\n",
    "    result = getMeasure(circ, 1)[0][::-1]\n",
    "    return shifterCircuitMaker(n, result)"
   ]
  },
  {
   "cell_type": "code",
   "execution_count": null,
   "metadata": {},
   "outputs": [],
   "source": []
  },
  {
   "cell_type": "code",
   "execution_count": null,
   "metadata": {},
   "outputs": [],
   "source": []
  },
  {
   "cell_type": "code",
   "execution_count": null,
   "metadata": {},
   "outputs": [],
   "source": []
  },
  {
   "cell_type": "code",
   "execution_count": null,
   "metadata": {},
   "outputs": [],
   "source": []
  }
 ],
 "metadata": {
  "kernelspec": {
   "display_name": "Python 3",
   "language": "python",
   "name": "python3"
  },
  "language_info": {
   "codemirror_mode": {
    "name": "ipython",
    "version": 3
   },
   "file_extension": ".py",
   "mimetype": "text/x-python",
   "name": "python",
   "nbconvert_exporter": "python",
   "pygments_lexer": "ipython3",
   "version": "3.7.6"
  }
 },
 "nbformat": 4,
 "nbformat_minor": 4
}
