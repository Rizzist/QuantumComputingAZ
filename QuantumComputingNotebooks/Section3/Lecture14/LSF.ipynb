{
 "cells": [
  {
   "cell_type": "code",
   "execution_count": 1,
   "metadata": {},
   "outputs": [],
   "source": [
    "import numpy as np\n",
    "from scipy import linalg\n",
    "from scipy.linalg import lstsq\n",
    "from scipy import stats\n",
    "import matplotlib.pyplot as plt\n",
    "\n",
    "import warnings\n",
    "warnings.filterwarnings('ignore')\n",
    "\n"
   ]
  },
  {
   "cell_type": "code",
   "execution_count": 2,
   "metadata": {},
   "outputs": [],
   "source": [
    "def get_least_squares_fit(data, basis_matrix, weights=None):\n",
    "    c_mat = basis_matrix\n",
    "    d_mat = np.array(data)\n",
    "    if weights is not None:\n",
    "        w = np.array(weights)\n",
    "        c_mat = w[:, None] * c_mat\n",
    "        d_mat = w * d_mat\n",
    "    rho_fit_mat, _, _, _ = lstsq(c_mat.T, d_mat)\n",
    "    print(rho_fit_mat)\n",
    "    return rho_fit_mat"
   ]
  },
  {
   "cell_type": "code",
   "execution_count": 9,
   "metadata": {},
   "outputs": [
    {
     "name": "stdout",
     "output_type": "stream",
     "text": [
      "[0.29090909 5.09090909]\n"
     ]
    }
   ],
   "source": [
    "data = [5,5,5,5,5,10, 12, 6, 2, 8, 9]\n",
    "u_matrix = np.arange(0, len(data))\n",
    "basis_matrix = np.array([u_matrix, np.ones(len(data))])\n",
    "rho_fit_val = get_least_squares_fit(data,basis_matrix)"
   ]
  },
  {
   "cell_type": "code",
   "execution_count": 11,
   "metadata": {},
   "outputs": [
    {
     "data": {
      "image/png": "[encoded data removed]",
      "text/plain": [
       "<Figure size 432x288 with 1 Axes>"
      ]
     },
     "metadata": {
      "needs_background": "light"
     },
     "output_type": "display_data"
    }
   ],
   "source": [
    "distances = np.arange(0, len(data), 1)\n",
    "slope, intercept, r_value, p_value, std_err = stats.linregress(distances,data)\n",
    "line = slope*distances+intercept\n",
    "plt.plot(distances, line, 'r', label='LSF'.format(slope,intercept))\n",
    "plt.plot(distances, data, label=\"Data\",linestyle=\"\",marker=\"o\")\n",
    "\n",
    "plt.xlabel('Input')\n",
    "plt.ylabel('Output')\n",
    "plt.legend()\n",
    "plt.show()"
   ]
  },
  {
   "cell_type": "code",
   "execution_count": null,
   "metadata": {},
   "outputs": [],
   "source": []
  }
 ],
 "metadata": {
  "kernelspec": {
   "display_name": "Python 3",
   "language": "python",
   "name": "python3"
  },
  "language_info": {
   "codemirror_mode": {
    "name": "ipython",
    "version": 3
   },
   "file_extension": ".py",
   "mimetype": "text/x-python",
   "name": "python",
   "nbconvert_exporter": "python",
   "pygments_lexer": "ipython3",
   "version": "3.7.6"
  }
 },
 "nbformat": 4,
 "nbformat_minor": 4
}
