{
 "cells": [
  {
   "cell_type": "code",
   "execution_count": 1,
   "metadata": {},
   "outputs": [],
   "source": [
    "import numpy as np\n",
    "from qiskit import *\n",
    "%matplotlib inline\n",
    "from math import pi, sqrt\n",
    "import random\n",
    "import time\n",
    "\n",
    "from qiskit.visualization import plot_histogram\n",
    "from qiskit.visualization import array_to_latex\n",
    "from qiskit_textbook.tools import random_state\n",
    "\n",
    "from qiskit_nature.drivers import PySCFDriver, UnitsType #Python Chemistry Library\n",
    "from qiskit_nature.problems.second_quantization.electronic import ElectronicStructureProblem #2'nd Quantization\n",
    "\n",
    "#pip install git+https://github.com/qiskit-community/qiskit-textbook.git#subdirectory=qiskit-textbook-src\n",
    "\n",
    "#pip install qiskit-nature\n",
    "#pip install pyscf\n",
    "import warnings\n",
    "warnings.filterwarnings('ignore')\n",
    "\n"
   ]
  },
  {
   "cell_type": "code",
   "execution_count": null,
   "metadata": {},
   "outputs": [],
   "source": [
    "\"\"\"\n",
    " /$$$$$$$$ /$$$$$$$   /$$$$$$  /$$      /$$                    /$$$$$$  /$$$$$$  /$$$$$$  /$$   /$$ /$$$$$$ /$$$$$$$$\n",
    "| $$_____/| $$__  $$ /$$__  $$| $$$    /$$$                   /$$__  $$|_  $$_/ /$$__  $$| $$  /$$/|_  $$_/|__  $$__/\n",
    "| $$      | $$  \\ $$| $$  \\ $$| $$$$  /$$$$                  | $$  \\ $$  | $$  | $$  \\__/| $$ /$$/   | $$     | $$   \n",
    "| $$$$$   | $$$$$$$/| $$  | $$| $$ $$/$$ $$                  | $$  | $$  | $$  |  $$$$$$ | $$$$$/    | $$     | $$   \n",
    "| $$__/   | $$__  $$| $$  | $$| $$  $$$| $$                  | $$  | $$  | $$   \\____  $$| $$  $$    | $$     | $$   \n",
    "| $$      | $$  \\ $$| $$  | $$| $$\\  $ | $$                  | $$/$$ $$  | $$   /$$  \\ $$| $$\\  $$   | $$     | $$   \n",
    "| $$      | $$  | $$|  $$$$$$/| $$ \\/  | $$                  |  $$$$$$/ /$$$$$$|  $$$$$$/| $$ \\  $$ /$$$$$$   | $$   \n",
    "|__/      |__/  |__/ \\______/ |__/     |__/                   \\____ $$$|______/ \\______/ |__/  \\__/|______/   |__/   \n",
    "                                                                   \\__/                                                                                                                                                                 \n",
    "\"\"\""
   ]
  },
  {
   "cell_type": "code",
   "execution_count": 2,
   "metadata": {},
   "outputs": [],
   "source": [
    "# Use PySCF, a classical computational chemistry software\n",
    "# package, to compute the one-body and two-body integrals in\n",
    "# electronic-orbital basis, necessary to form the Fermionic operator\n",
    "driver = PySCFDriver(atom='H .0 .0 .0; H .0 .0 0.735',\n",
    "                     unit=UnitsType.ANGSTROM,\n",
    "                     basis='sto3g')\n",
    "problem = ElectronicStructureProblem(driver) #Fermionic Operator\n",
    "\n",
    "\n",
    "# generate the second-quantized operators\n",
    "second_q_ops = problem.second_q_ops()\n",
    "main_op = second_q_ops[0]\n",
    "\n",
    "num_particles = (problem.molecule_data_transformed.num_alpha,\n",
    "                 problem.molecule_data_transformed.num_beta)\n",
    "\n",
    "num_spin_orbitals = 2 * problem.molecule_data.num_molecular_orbitals\n",
    "\n",
    "# setup the classical optimizer for VQE\n",
    "from qiskit.algorithms.optimizers import L_BFGS_B\n",
    "optimizer = L_BFGS_B()\n",
    "\n",
    "# setup the mapper and qubit converter\n",
    "from qiskit_nature.mappers.second_quantization import ParityMapper\n",
    "from qiskit_nature.converters.second_quantization import QubitConverter\n",
    "mapper = ParityMapper()\n",
    "converter = QubitConverter(mapper=mapper, two_qubit_reduction=True)\n",
    "# map to qubit operators\n",
    "qubit_op = converter.convert(main_op, num_particles=num_particles)\n",
    "\n",
    "#Convert Fermionic Operators to Pauli Matrices -> To Circuit"
   ]
  },
  {
   "cell_type": "code",
   "execution_count": 3,
   "metadata": {},
   "outputs": [],
   "source": [
    "# setup the initial state for the ansatz\n",
    "from qiskit_nature.circuit.library import HartreeFock #Computational Chemistry Algorithm \n",
    "init_state = HartreeFock(num_spin_orbitals, num_particles, converter)\n",
    "\n",
    "# setup the ansatz for VQE\n",
    "from qiskit.circuit.library import TwoLocal\n",
    "ansatz = TwoLocal(num_spin_orbitals, ['ry', 'rz'], 'cz')\n",
    "\n",
    "# add the initial state\n",
    "ansatz.compose(init_state, front=True)\n",
    "\n",
    "# set the backend for the quantum computation\n",
    "backend = Aer.get_backend('aer_simulator_statevector')\n",
    "\n",
    "# setup and run VQE\n",
    "from qiskit.algorithms import VQE\n",
    "algorithm = VQE(ansatz,optimizer=optimizer,quantum_instance=backend)"
   ]
  },
  {
   "cell_type": "code",
   "execution_count": 4,
   "metadata": {},
   "outputs": [
    {
     "name": "stdout",
     "output_type": "stream",
     "text": [
      "-0.965935001118535\n",
      "=== GROUND STATE ENERGY ===\n",
      " \n",
      "* Electronic ground state energy (Hartree): -0.965935001119\n",
      "  - computed part:      -0.965935001119\n",
      "~ Nuclear repulsion energy (Hartree): 0.719968994449\n",
      "> Total ground state energy (Hartree): -0.24596600667\n",
      " \n",
      "=== MEASURED OBSERVABLES ===\n",
      " \n",
      " \n",
      "=== DIPOLE MOMENTS ===\n",
      " \n",
      "~ Nuclear dipole moment (a.u.): [0.0  0.0  1.3889487]\n",
      " \n"
     ]
    }
   ],
   "source": [
    "result = algorithm.compute_minimum_eigenvalue(qubit_op)\n",
    "print(result.eigenvalue.real)\n",
    "\n",
    "electronic_structure_result = problem.interpret(result)\n",
    "print(electronic_structure_result)"
   ]
  },
  {
   "cell_type": "code",
   "execution_count": null,
   "metadata": {},
   "outputs": [],
   "source": []
  }
 ],
 "metadata": {
  "kernelspec": {
   "display_name": "Python 3",
   "language": "python",
   "name": "python3"
  },
  "language_info": {
   "codemirror_mode": {
    "name": "ipython",
    "version": 3
   },
   "file_extension": ".py",
   "mimetype": "text/x-python",
   "name": "python",
   "nbconvert_exporter": "python",
   "pygments_lexer": "ipython3",
   "version": "3.7.6"
  }
 },
 "nbformat": 4,
 "nbformat_minor": 4
}
