{
 "cells": [
  {
   "cell_type": "code",
   "execution_count": 1,
   "metadata": {},
   "outputs": [],
   "source": [
    "import numpy as np\n",
    "from qiskit import *\n",
    "%matplotlib inline\n",
    "from math import pi, sqrt\n",
    "import random\n",
    "import time\n",
    "\n",
    "from qiskit.visualization import plot_histogram\n",
    "from qiskit.visualization import array_to_latex\n",
    "from qiskit_textbook.tools import random_state\n",
    "\n",
    "#pip install git+https://github.com/qiskit-community/qiskit-textbook.git#subdirectory=qiskit-textbook-src\n",
    "\n",
    "import warnings\n",
    "warnings.filterwarnings('ignore')\n",
    "\n"
   ]
  },
  {
   "cell_type": "code",
   "execution_count": 2,
   "metadata": {},
   "outputs": [],
   "source": [
    "backend = Aer.get_backend('statevector_simulator')\n",
    "def getBloch(quantumC):\n",
    "    return visualization.plot_bloch_multivector(execute(quantumC, backend).result().get_statevector())\n"
   ]
  },
  {
   "cell_type": "code",
   "execution_count": 3,
   "metadata": {},
   "outputs": [],
   "source": [
    "def stateGenerator(state):\n",
    "    state = state[::-1]\n",
    "    current = int(state, 2)\n",
    "    newState = [0 for i in range(0, 2**(len(state)))]\n",
    "    newState[current] = 1\n",
    "    return newState"
   ]
  },
  {
   "cell_type": "code",
   "execution_count": 4,
   "metadata": {},
   "outputs": [],
   "source": [
    "def getMeasure(quantumC, n):\n",
    "    measures = []\n",
    "    for i in range(0, n):\n",
    "        outcome = execute(quantumC, backend).result()\n",
    "        hist = outcome.get_counts()\n",
    "        for i in hist.keys():\n",
    "            measures.append(i)\n",
    "    return measures"
   ]
  },
  {
   "cell_type": "code",
   "execution_count": 5,
   "metadata": {},
   "outputs": [],
   "source": [
    "def makeCirc(n, state):\n",
    "    initState = state\n",
    "    print(initState)\n",
    "    qr = QuantumRegister(n)\n",
    "    qc = ClassicalRegister(n)\n",
    "    circ = QuantumCircuit(qr, qc)\n",
    "    initializedState = stateGenerator(initState)\n",
    "    circ.initialize(initializedState, qr)\n",
    "    return circ"
   ]
  },
  {
   "cell_type": "code",
   "execution_count": 6,
   "metadata": {},
   "outputs": [],
   "source": [
    "def getHisto(n, circ):\n",
    "    qasm_sim = Aer.get_backend('qasm_simulator')\n",
    "    shots = n\n",
    "    qobj = assemble(circ, shots=shots)\n",
    "    results = qasm_sim.run(qobj).result()\n",
    "    counts = results.get_counts()\n",
    "    return counts"
   ]
  },
  {
   "cell_type": "code",
   "execution_count": 7,
   "metadata": {},
   "outputs": [],
   "source": [
    "def getPTrace(quantumCircuit, n):\n",
    "    return quantum_info.partial_trace(execute(quantumCircuit, backend).result().get_statevector(), [n])"
   ]
  },
  {
   "cell_type": "code",
   "execution_count": 8,
   "metadata": {},
   "outputs": [],
   "source": [
    "def cccZ():\n",
    "    #Triple Control Z Rotation\n",
    "    qc = QuantumCircuit(4)\n",
    "    qc.cp(pi/4, 0, 3)\n",
    "    qc.cx(0, 1)\n",
    "    qc.cp(-pi/4, 1, 3)\n",
    "    qc.cx(0, 1)\n",
    "    qc.cp(pi/4, 1, 3)\n",
    "    qc.cx(1, 2)\n",
    "    qc.cp(-pi/4, 2, 3)\n",
    "    qc.cx(0, 2)\n",
    "    qc.cp(pi/4, 2, 3)\n",
    "    qc.cx(1, 2)\n",
    "    qc.cp(-pi/4, 2, 3)\n",
    "    qc.cx(0, 2)\n",
    "    qc.cp(pi/4, 2, 3)\n",
    "    gate = qc.to_gate(label=' cccZ')\n",
    "    return gate"
   ]
  },
  {
   "cell_type": "code",
   "execution_count": 9,
   "metadata": {},
   "outputs": [],
   "source": [
    "def groverDiffusionOp():\n",
    "    #Inversion along the mean\n",
    "    circ = QuantumCircuit(4)\n",
    "    circ.h(range(4))\n",
    "    circ.x(range(4))\n",
    "    circ.append(cccZ(), [0, 1, 2, 3])\n",
    "    circ.x(range(4))\n",
    "    circ.h(range(4))\n",
    "    gate = circ.to_gate(label=\" Diffusion\")\n",
    "    return gate"
   ]
  },
  {
   "cell_type": "code",
   "execution_count": 10,
   "metadata": {},
   "outputs": [],
   "source": [
    "def groverOracle(n):\n",
    "    #Takes in 4-bit string and returns Gate\n",
    "    #Grover Oracle\n",
    "    #Inversion\n",
    "    circ = QuantumCircuit(4)\n",
    "    if (n[3] != str(1)):\n",
    "        circ.x(0)\n",
    "    if (n[2] != str(1)):\n",
    "        circ.x(1)\n",
    "    if (n[1] != str(1)):\n",
    "        circ.x(2)\n",
    "    if (n[0] != str(1)):\n",
    "        circ.x(3)\n",
    "    circ.append(cccZ(), [0, 1, 2, 3])\n",
    "    if (n[3] != str(1)):\n",
    "        circ.x(0)\n",
    "    if (n[2] != str(1)):\n",
    "        circ.x(1)\n",
    "    if (n[1] != str(1)):\n",
    "        circ.x(2)\n",
    "    if (n[0] != str(1)):\n",
    "        circ.x(3)\n",
    "    gate = circ.to_gate(label=' Grover Oracle')\n",
    "    return gate"
   ]
  },
  {
   "cell_type": "code",
   "execution_count": 28,
   "metadata": {},
   "outputs": [],
   "source": [
    "def groverIterate(inp):\n",
    "    circ = QuantumCircuit(4)\n",
    "    circ.append(groverOracle(inp), [0, 1, 2, 3])\n",
    "    circ.append(groverDiffusionOp(), [0, 1, 2, 3])\n",
    "    gate = circ.to_gate(label = ' Grover Iterate')\n",
    "    return gate"
   ]
  },
  {
   "cell_type": "code",
   "execution_count": 33,
   "metadata": {},
   "outputs": [
    {
     "name": "stdout",
     "output_type": "stream",
     "text": [
      "0000\n"
     ]
    },
    {
     "data": {
      "text/plain": [
       "<qiskit.circuit.instructionset.InstructionSet at 0x7fe8e2e22190>"
      ]
     },
     "execution_count": 33,
     "metadata": {},
     "output_type": "execute_result"
    }
   ],
   "source": [
    "circ = makeCirc(4, '0000')\n",
    "circ.h(range(4))"
   ]
  },
  {
   "cell_type": "code",
   "execution_count": 34,
   "metadata": {},
   "outputs": [
    {
     "data": {
      "text/plain": [
       "<qiskit.circuit.instructionset.InstructionSet at 0x7fe8e2b648d0>"
      ]
     },
     "execution_count": 34,
     "metadata": {},
     "output_type": "execute_result"
    }
   ],
   "source": [
    "circ.append(groverIterate('0010'), [0, 1, 2, 3])"
   ]
  },
  {
   "cell_type": "code",
   "execution_count": 35,
   "metadata": {},
   "outputs": [
    {
     "data": {
      "text/plain": [
       "<qiskit.circuit.instructionset.InstructionSet at 0x7fe8e2e22dd0>"
      ]
     },
     "execution_count": 35,
     "metadata": {},
     "output_type": "execute_result"
    }
   ],
   "source": [
    "circ.measure(range(4), range(4))"
   ]
  },
  {
   "cell_type": "code",
   "execution_count": 36,
   "metadata": {},
   "outputs": [
    {
     "data": {
      "image/png": "[encoded data removed]",
      "text/plain": [
       "<Figure size 835.104x325.08 with 1 Axes>"
      ]
     },
     "execution_count": 36,
     "metadata": {},
     "output_type": "execute_result"
    }
   ],
   "source": [
    "circ.draw('mpl')"
   ]
  },
  {
   "cell_type": "code",
   "execution_count": null,
   "metadata": {},
   "outputs": [],
   "source": []
  },
  {
   "cell_type": "code",
   "execution_count": null,
   "metadata": {},
   "outputs": [],
   "source": []
  },
  {
   "cell_type": "code",
   "execution_count": null,
   "metadata": {},
   "outputs": [],
   "source": []
  },
  {
   "cell_type": "code",
   "execution_count": null,
   "metadata": {},
   "outputs": [],
   "source": []
  },
  {
   "cell_type": "code",
   "execution_count": null,
   "metadata": {},
   "outputs": [],
   "source": []
  },
  {
   "cell_type": "code",
   "execution_count": null,
   "metadata": {},
   "outputs": [],
   "source": []
  },
  {
   "cell_type": "code",
   "execution_count": null,
   "metadata": {},
   "outputs": [],
   "source": []
  },
  {
   "cell_type": "code",
   "execution_count": null,
   "metadata": {},
   "outputs": [],
   "source": []
  },
  {
   "cell_type": "code",
   "execution_count": null,
   "metadata": {},
   "outputs": [],
   "source": []
  },
  {
   "cell_type": "code",
   "execution_count": null,
   "metadata": {},
   "outputs": [],
   "source": []
  },
  {
   "cell_type": "code",
   "execution_count": null,
   "metadata": {},
   "outputs": [],
   "source": [
    "#barebone\n",
    "circ = makeCirc(4, '0000')\n",
    "circ.h(range(4))\n",
    "n = '0100'\n",
    "for i in range(0):\n",
    "    if (n[3] != str(1)):\n",
    "        circ.x(0)\n",
    "    if (n[2] != str(1)):\n",
    "        circ.x(1)\n",
    "    if (n[1] != str(1)):\n",
    "        circ.x(2)\n",
    "    if (n[0] != str(1)):\n",
    "        circ.x(3)\n",
    "    circ.cp(pi/4, 0, 3)\n",
    "    circ.cx(0, 1)\n",
    "    circ.cp(-pi/4, 1, 3)\n",
    "    circ.cx(0, 1)\n",
    "    circ.cp(pi/4, 1, 3)\n",
    "    circ.cx(1, 2)\n",
    "    circ.cp(-pi/4, 2, 3)\n",
    "    circ.cx(0, 2)\n",
    "    circ.cp(pi/4, 2, 3)\n",
    "    circ.cx(1, 2)\n",
    "    circ.cp(-pi/4, 2, 3)\n",
    "    circ.cx(0, 2)\n",
    "    circ.cp(pi/4, 2, 3)\n",
    "    if (n[3] != str(1)):\n",
    "        circ.x(0)\n",
    "    if (n[2] != str(1)):\n",
    "        circ.x(1)\n",
    "    if (n[1] != str(1)):\n",
    "        circ.x(2)\n",
    "    if (n[0] != str(1)):\n",
    "        circ.x(3)\n",
    "        \n",
    "        \n",
    "    circ.h(range(4))\n",
    "    circ.x(range(4))\n",
    "    circ.cp(pi/4, 0, 3)\n",
    "    circ.cx(0, 1)\n",
    "    circ.cp(-pi/4, 1, 3)\n",
    "    circ.cx(0, 1)\n",
    "    circ.cp(pi/4, 1, 3)\n",
    "    circ.cx(1, 2)\n",
    "    circ.cp(-pi/4, 2, 3)\n",
    "    circ.cx(0, 2)\n",
    "    circ.cp(pi/4, 2, 3)\n",
    "    circ.cx(1, 2)\n",
    "    circ.cp(-pi/4, 2, 3)\n",
    "    circ.cx(0, 2)\n",
    "    circ.cp(pi/4, 2, 3)\n",
    "    circ.x(range(4))\n",
    "    circ.h(range(4))\n",
    "    display(getBloch(circ))\n",
    "circ.measure(range(4), range(4))"
   ]
  },
  {
   "cell_type": "code",
   "execution_count": null,
   "metadata": {},
   "outputs": [],
   "source": [
    "plot_histogram(getHisto(4096, circ))"
   ]
  },
  {
   "cell_type": "code",
   "execution_count": null,
   "metadata": {},
   "outputs": [],
   "source": [
    "array_to_latex(getPTrace(circ, 0))"
   ]
  },
  {
   "cell_type": "code",
   "execution_count": null,
   "metadata": {},
   "outputs": [],
   "source": []
  },
  {
   "cell_type": "code",
   "execution_count": null,
   "metadata": {},
   "outputs": [],
   "source": []
  },
  {
   "cell_type": "code",
   "execution_count": null,
   "metadata": {},
   "outputs": [],
   "source": []
  },
  {
   "cell_type": "code",
   "execution_count": null,
   "metadata": {},
   "outputs": [],
   "source": []
  },
  {
   "cell_type": "code",
   "execution_count": null,
   "metadata": {},
   "outputs": [],
   "source": []
  },
  {
   "cell_type": "code",
   "execution_count": null,
   "metadata": {},
   "outputs": [],
   "source": []
  }
 ],
 "metadata": {
  "kernelspec": {
   "display_name": "Python 3",
   "language": "python",
   "name": "python3"
  },
  "language_info": {
   "codemirror_mode": {
    "name": "ipython",
    "version": 3
   },
   "file_extension": ".py",
   "mimetype": "text/x-python",
   "name": "python",
   "nbconvert_exporter": "python",
   "pygments_lexer": "ipython3",
   "version": "3.7.6"
  }
 },
 "nbformat": 4,
 "nbformat_minor": 4
}
